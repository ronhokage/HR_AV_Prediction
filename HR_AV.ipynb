{
 "cells": [
  {
   "cell_type": "code",
   "execution_count": 1,
   "metadata": {},
   "outputs": [],
   "source": [
    "#Import the required libraries\n",
    "import pandas as pd\n",
    "import numpy as np\n",
    "import matplotlib.pyplot as plt\n",
    "import seaborn as sns"
   ]
  },
  {
   "cell_type": "code",
   "execution_count": 2,
   "metadata": {},
   "outputs": [],
   "source": [
    "#Load train and test dataset\n",
    "train_df=pd.read_csv(\"......")\n",
    "test_df=pd.read_csv('........')"
   ]
  },
  {
   "cell_type": "code",
   "execution_count": 3,
   "metadata": {},
   "outputs": [
    {
     "data": {
      "text/html": [
       "<div>\n",
       "<style scoped>\n",
       "    .dataframe tbody tr th:only-of-type {\n",
       "        vertical-align: middle;\n",
       "    }\n",
       "\n",
       "    .dataframe tbody tr th {\n",
       "        vertical-align: top;\n",
       "    }\n",
       "\n",
       "    .dataframe thead th {\n",
       "        text-align: right;\n",
       "    }\n",
       "</style>\n",
       "<table border=\"1\" class=\"dataframe\">\n",
       "  <thead>\n",
       "    <tr style=\"text-align: right;\">\n",
       "      <th></th>\n",
       "      <th>employee_id</th>\n",
       "      <th>department</th>\n",
       "      <th>region</th>\n",
       "      <th>education</th>\n",
       "      <th>gender</th>\n",
       "      <th>recruitment_channel</th>\n",
       "      <th>no_of_trainings</th>\n",
       "      <th>age</th>\n",
       "      <th>previous_year_rating</th>\n",
       "      <th>length_of_service</th>\n",
       "      <th>KPIs_met &gt;80%</th>\n",
       "      <th>awards_won?</th>\n",
       "      <th>avg_training_score</th>\n",
       "      <th>is_promoted</th>\n",
       "    </tr>\n",
       "  </thead>\n",
       "  <tbody>\n",
       "    <tr>\n",
       "      <th>0</th>\n",
       "      <td>65438</td>\n",
       "      <td>Sales &amp; Marketing</td>\n",
       "      <td>region_7</td>\n",
       "      <td>Master's &amp; above</td>\n",
       "      <td>f</td>\n",
       "      <td>sourcing</td>\n",
       "      <td>1</td>\n",
       "      <td>35</td>\n",
       "      <td>5.0</td>\n",
       "      <td>8</td>\n",
       "      <td>1</td>\n",
       "      <td>0</td>\n",
       "      <td>49</td>\n",
       "      <td>0</td>\n",
       "    </tr>\n",
       "    <tr>\n",
       "      <th>1</th>\n",
       "      <td>65141</td>\n",
       "      <td>Operations</td>\n",
       "      <td>region_22</td>\n",
       "      <td>Bachelor's</td>\n",
       "      <td>m</td>\n",
       "      <td>other</td>\n",
       "      <td>1</td>\n",
       "      <td>30</td>\n",
       "      <td>5.0</td>\n",
       "      <td>4</td>\n",
       "      <td>0</td>\n",
       "      <td>0</td>\n",
       "      <td>60</td>\n",
       "      <td>0</td>\n",
       "    </tr>\n",
       "    <tr>\n",
       "      <th>2</th>\n",
       "      <td>7513</td>\n",
       "      <td>Sales &amp; Marketing</td>\n",
       "      <td>region_19</td>\n",
       "      <td>Bachelor's</td>\n",
       "      <td>m</td>\n",
       "      <td>sourcing</td>\n",
       "      <td>1</td>\n",
       "      <td>34</td>\n",
       "      <td>3.0</td>\n",
       "      <td>7</td>\n",
       "      <td>0</td>\n",
       "      <td>0</td>\n",
       "      <td>50</td>\n",
       "      <td>0</td>\n",
       "    </tr>\n",
       "    <tr>\n",
       "      <th>3</th>\n",
       "      <td>2542</td>\n",
       "      <td>Sales &amp; Marketing</td>\n",
       "      <td>region_23</td>\n",
       "      <td>Bachelor's</td>\n",
       "      <td>m</td>\n",
       "      <td>other</td>\n",
       "      <td>2</td>\n",
       "      <td>39</td>\n",
       "      <td>1.0</td>\n",
       "      <td>10</td>\n",
       "      <td>0</td>\n",
       "      <td>0</td>\n",
       "      <td>50</td>\n",
       "      <td>0</td>\n",
       "    </tr>\n",
       "    <tr>\n",
       "      <th>4</th>\n",
       "      <td>48945</td>\n",
       "      <td>Technology</td>\n",
       "      <td>region_26</td>\n",
       "      <td>Bachelor's</td>\n",
       "      <td>m</td>\n",
       "      <td>other</td>\n",
       "      <td>1</td>\n",
       "      <td>45</td>\n",
       "      <td>3.0</td>\n",
       "      <td>2</td>\n",
       "      <td>0</td>\n",
       "      <td>0</td>\n",
       "      <td>73</td>\n",
       "      <td>0</td>\n",
       "    </tr>\n",
       "  </tbody>\n",
       "</table>\n",
       "</div>"
      ],
      "text/plain": [
       "   employee_id         department     region         education gender  \\\n",
       "0        65438  Sales & Marketing   region_7  Master's & above      f   \n",
       "1        65141         Operations  region_22        Bachelor's      m   \n",
       "2         7513  Sales & Marketing  region_19        Bachelor's      m   \n",
       "3         2542  Sales & Marketing  region_23        Bachelor's      m   \n",
       "4        48945         Technology  region_26        Bachelor's      m   \n",
       "\n",
       "  recruitment_channel  no_of_trainings  age  previous_year_rating  \\\n",
       "0            sourcing                1   35                   5.0   \n",
       "1               other                1   30                   5.0   \n",
       "2            sourcing                1   34                   3.0   \n",
       "3               other                2   39                   1.0   \n",
       "4               other                1   45                   3.0   \n",
       "\n",
       "   length_of_service  KPIs_met >80%  awards_won?  avg_training_score  \\\n",
       "0                  8              1            0                  49   \n",
       "1                  4              0            0                  60   \n",
       "2                  7              0            0                  50   \n",
       "3                 10              0            0                  50   \n",
       "4                  2              0            0                  73   \n",
       "\n",
       "   is_promoted  \n",
       "0            0  \n",
       "1            0  \n",
       "2            0  \n",
       "3            0  \n",
       "4            0  "
      ]
     },
     "execution_count": 3,
     "metadata": {},
     "output_type": "execute_result"
    }
   ],
   "source": [
    "train_df.head()"
   ]
  },
  {
   "cell_type": "code",
   "execution_count": 4,
   "metadata": {},
   "outputs": [
    {
     "name": "stdout",
     "output_type": "stream",
     "text": [
      "<class 'pandas.core.frame.DataFrame'>\n",
      "RangeIndex: 54808 entries, 0 to 54807\n",
      "Data columns (total 14 columns):\n",
      " #   Column                Non-Null Count  Dtype  \n",
      "---  ------                --------------  -----  \n",
      " 0   employee_id           54808 non-null  int64  \n",
      " 1   department            54808 non-null  object \n",
      " 2   region                54808 non-null  object \n",
      " 3   education             52399 non-null  object \n",
      " 4   gender                54808 non-null  object \n",
      " 5   recruitment_channel   54808 non-null  object \n",
      " 6   no_of_trainings       54808 non-null  int64  \n",
      " 7   age                   54808 non-null  int64  \n",
      " 8   previous_year_rating  50684 non-null  float64\n",
      " 9   length_of_service     54808 non-null  int64  \n",
      " 10  KPIs_met >80%         54808 non-null  int64  \n",
      " 11  awards_won?           54808 non-null  int64  \n",
      " 12  avg_training_score    54808 non-null  int64  \n",
      " 13  is_promoted           54808 non-null  int64  \n",
      "dtypes: float64(1), int64(8), object(5)\n",
      "memory usage: 5.9+ MB\n"
     ]
    }
   ],
   "source": [
    "train_df.info()"
   ]
  },
  {
   "cell_type": "code",
   "execution_count": 5,
   "metadata": {},
   "outputs": [
    {
     "name": "stdout",
     "output_type": "stream",
     "text": [
      "<class 'pandas.core.frame.DataFrame'>\n",
      "RangeIndex: 23490 entries, 0 to 23489\n",
      "Data columns (total 13 columns):\n",
      " #   Column                Non-Null Count  Dtype  \n",
      "---  ------                --------------  -----  \n",
      " 0   employee_id           23490 non-null  int64  \n",
      " 1   department            23490 non-null  object \n",
      " 2   region                23490 non-null  object \n",
      " 3   education             22456 non-null  object \n",
      " 4   gender                23490 non-null  object \n",
      " 5   recruitment_channel   23490 non-null  object \n",
      " 6   no_of_trainings       23490 non-null  int64  \n",
      " 7   age                   23490 non-null  int64  \n",
      " 8   previous_year_rating  21678 non-null  float64\n",
      " 9   length_of_service     23490 non-null  int64  \n",
      " 10  KPIs_met >80%         23490 non-null  int64  \n",
      " 11  awards_won?           23490 non-null  int64  \n",
      " 12  avg_training_score    23490 non-null  int64  \n",
      "dtypes: float64(1), int64(7), object(5)\n",
      "memory usage: 2.3+ MB\n"
     ]
    }
   ],
   "source": [
    "test_df.info()"
   ]
  },
  {
   "cell_type": "code",
   "execution_count": 6,
   "metadata": {},
   "outputs": [
    {
     "data": {
      "text/plain": [
       "employee_id                0\n",
       "department                 0\n",
       "region                     0\n",
       "education               2409\n",
       "gender                     0\n",
       "recruitment_channel        0\n",
       "no_of_trainings            0\n",
       "age                        0\n",
       "previous_year_rating    4124\n",
       "length_of_service          0\n",
       "KPIs_met >80%              0\n",
       "awards_won?                0\n",
       "avg_training_score         0\n",
       "is_promoted                0\n",
       "dtype: int64"
      ]
     },
     "execution_count": 6,
     "metadata": {},
     "output_type": "execute_result"
    }
   ],
   "source": [
    "#No of null values in the train set\n",
    "train_df.isnull().sum()"
   ]
  },
  {
   "cell_type": "code",
   "execution_count": 7,
   "metadata": {},
   "outputs": [
    {
     "data": {
      "text/plain": [
       "employee_id                0\n",
       "department                 0\n",
       "region                     0\n",
       "education               1034\n",
       "gender                     0\n",
       "recruitment_channel        0\n",
       "no_of_trainings            0\n",
       "age                        0\n",
       "previous_year_rating    1812\n",
       "length_of_service          0\n",
       "KPIs_met >80%              0\n",
       "awards_won?                0\n",
       "avg_training_score         0\n",
       "dtype: int64"
      ]
     },
     "execution_count": 7,
     "metadata": {},
     "output_type": "execute_result"
    }
   ],
   "source": [
    "#No of null values in the test set\n",
    "test_df.isnull().sum()"
   ]
  },
  {
   "cell_type": "code",
   "execution_count": 8,
   "metadata": {},
   "outputs": [
    {
     "data": {
      "text/plain": [
       "Bachelor's          36669\n",
       "Master's & above    14925\n",
       "Below Secondary       805\n",
       "Name: education, dtype: int64"
      ]
     },
     "execution_count": 8,
     "metadata": {},
     "output_type": "execute_result"
    },
    {
     "data": {
      "image/png": "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\n",
      "text/plain": [
       "<Figure size 432x288 with 1 Axes>"
      ]
     },
     "metadata": {
      "needs_background": "light"
     },
     "output_type": "display_data"
    }
   ],
   "source": [
    "#Plotting Education stats of Employee\n",
    "sns.countplot(x='education',data=train_df)\n",
    "plt.title('Education Type')\n",
    "train_df['education'].value_counts()"
   ]
  },
  {
   "cell_type": "code",
   "execution_count": 9,
   "metadata": {},
   "outputs": [
    {
     "data": {
      "text/html": [
       "<div>\n",
       "<style scoped>\n",
       "    .dataframe tbody tr th:only-of-type {\n",
       "        vertical-align: middle;\n",
       "    }\n",
       "\n",
       "    .dataframe tbody tr th {\n",
       "        vertical-align: top;\n",
       "    }\n",
       "\n",
       "    .dataframe thead th {\n",
       "        text-align: right;\n",
       "    }\n",
       "</style>\n",
       "<table border=\"1\" class=\"dataframe\">\n",
       "  <thead>\n",
       "    <tr style=\"text-align: right;\">\n",
       "      <th></th>\n",
       "      <th>employee_id</th>\n",
       "      <th>department</th>\n",
       "      <th>region</th>\n",
       "      <th>education</th>\n",
       "      <th>gender</th>\n",
       "      <th>recruitment_channel</th>\n",
       "      <th>no_of_trainings</th>\n",
       "      <th>age</th>\n",
       "      <th>previous_year_rating</th>\n",
       "      <th>length_of_service</th>\n",
       "      <th>KPIs_met &gt;80%</th>\n",
       "      <th>awards_won?</th>\n",
       "      <th>avg_training_score</th>\n",
       "      <th>is_promoted</th>\n",
       "    </tr>\n",
       "  </thead>\n",
       "  <tbody>\n",
       "    <tr>\n",
       "      <th>10</th>\n",
       "      <td>29934</td>\n",
       "      <td>Technology</td>\n",
       "      <td>region_23</td>\n",
       "      <td>NaN</td>\n",
       "      <td>m</td>\n",
       "      <td>sourcing</td>\n",
       "      <td>1</td>\n",
       "      <td>30</td>\n",
       "      <td>NaN</td>\n",
       "      <td>1</td>\n",
       "      <td>0</td>\n",
       "      <td>0</td>\n",
       "      <td>77</td>\n",
       "      <td>0</td>\n",
       "    </tr>\n",
       "    <tr>\n",
       "      <th>21</th>\n",
       "      <td>33332</td>\n",
       "      <td>Operations</td>\n",
       "      <td>region_15</td>\n",
       "      <td>NaN</td>\n",
       "      <td>m</td>\n",
       "      <td>sourcing</td>\n",
       "      <td>1</td>\n",
       "      <td>41</td>\n",
       "      <td>4.0</td>\n",
       "      <td>11</td>\n",
       "      <td>0</td>\n",
       "      <td>0</td>\n",
       "      <td>57</td>\n",
       "      <td>0</td>\n",
       "    </tr>\n",
       "    <tr>\n",
       "      <th>32</th>\n",
       "      <td>35465</td>\n",
       "      <td>Sales &amp; Marketing</td>\n",
       "      <td>region_7</td>\n",
       "      <td>NaN</td>\n",
       "      <td>f</td>\n",
       "      <td>sourcing</td>\n",
       "      <td>1</td>\n",
       "      <td>24</td>\n",
       "      <td>1.0</td>\n",
       "      <td>2</td>\n",
       "      <td>0</td>\n",
       "      <td>0</td>\n",
       "      <td>48</td>\n",
       "      <td>0</td>\n",
       "    </tr>\n",
       "    <tr>\n",
       "      <th>43</th>\n",
       "      <td>17423</td>\n",
       "      <td>Sales &amp; Marketing</td>\n",
       "      <td>region_2</td>\n",
       "      <td>NaN</td>\n",
       "      <td>m</td>\n",
       "      <td>other</td>\n",
       "      <td>3</td>\n",
       "      <td>24</td>\n",
       "      <td>2.0</td>\n",
       "      <td>2</td>\n",
       "      <td>0</td>\n",
       "      <td>0</td>\n",
       "      <td>48</td>\n",
       "      <td>0</td>\n",
       "    </tr>\n",
       "    <tr>\n",
       "      <th>82</th>\n",
       "      <td>66013</td>\n",
       "      <td>Sales &amp; Marketing</td>\n",
       "      <td>region_2</td>\n",
       "      <td>NaN</td>\n",
       "      <td>m</td>\n",
       "      <td>sourcing</td>\n",
       "      <td>2</td>\n",
       "      <td>25</td>\n",
       "      <td>3.0</td>\n",
       "      <td>2</td>\n",
       "      <td>0</td>\n",
       "      <td>0</td>\n",
       "      <td>53</td>\n",
       "      <td>0</td>\n",
       "    </tr>\n",
       "    <tr>\n",
       "      <th>...</th>\n",
       "      <td>...</td>\n",
       "      <td>...</td>\n",
       "      <td>...</td>\n",
       "      <td>...</td>\n",
       "      <td>...</td>\n",
       "      <td>...</td>\n",
       "      <td>...</td>\n",
       "      <td>...</td>\n",
       "      <td>...</td>\n",
       "      <td>...</td>\n",
       "      <td>...</td>\n",
       "      <td>...</td>\n",
       "      <td>...</td>\n",
       "      <td>...</td>\n",
       "    </tr>\n",
       "    <tr>\n",
       "      <th>54692</th>\n",
       "      <td>14821</td>\n",
       "      <td>Sales &amp; Marketing</td>\n",
       "      <td>region_2</td>\n",
       "      <td>NaN</td>\n",
       "      <td>f</td>\n",
       "      <td>sourcing</td>\n",
       "      <td>1</td>\n",
       "      <td>35</td>\n",
       "      <td>3.0</td>\n",
       "      <td>7</td>\n",
       "      <td>0</td>\n",
       "      <td>0</td>\n",
       "      <td>53</td>\n",
       "      <td>0</td>\n",
       "    </tr>\n",
       "    <tr>\n",
       "      <th>54717</th>\n",
       "      <td>7684</td>\n",
       "      <td>Analytics</td>\n",
       "      <td>region_2</td>\n",
       "      <td>NaN</td>\n",
       "      <td>m</td>\n",
       "      <td>sourcing</td>\n",
       "      <td>1</td>\n",
       "      <td>32</td>\n",
       "      <td>3.0</td>\n",
       "      <td>4</td>\n",
       "      <td>0</td>\n",
       "      <td>0</td>\n",
       "      <td>86</td>\n",
       "      <td>0</td>\n",
       "    </tr>\n",
       "    <tr>\n",
       "      <th>54729</th>\n",
       "      <td>1797</td>\n",
       "      <td>HR</td>\n",
       "      <td>region_2</td>\n",
       "      <td>NaN</td>\n",
       "      <td>f</td>\n",
       "      <td>other</td>\n",
       "      <td>1</td>\n",
       "      <td>28</td>\n",
       "      <td>3.0</td>\n",
       "      <td>2</td>\n",
       "      <td>0</td>\n",
       "      <td>0</td>\n",
       "      <td>53</td>\n",
       "      <td>0</td>\n",
       "    </tr>\n",
       "    <tr>\n",
       "      <th>54742</th>\n",
       "      <td>38935</td>\n",
       "      <td>Sales &amp; Marketing</td>\n",
       "      <td>region_31</td>\n",
       "      <td>NaN</td>\n",
       "      <td>m</td>\n",
       "      <td>other</td>\n",
       "      <td>1</td>\n",
       "      <td>28</td>\n",
       "      <td>4.0</td>\n",
       "      <td>3</td>\n",
       "      <td>0</td>\n",
       "      <td>0</td>\n",
       "      <td>47</td>\n",
       "      <td>0</td>\n",
       "    </tr>\n",
       "    <tr>\n",
       "      <th>54806</th>\n",
       "      <td>13614</td>\n",
       "      <td>Sales &amp; Marketing</td>\n",
       "      <td>region_9</td>\n",
       "      <td>NaN</td>\n",
       "      <td>m</td>\n",
       "      <td>sourcing</td>\n",
       "      <td>1</td>\n",
       "      <td>29</td>\n",
       "      <td>1.0</td>\n",
       "      <td>2</td>\n",
       "      <td>0</td>\n",
       "      <td>0</td>\n",
       "      <td>45</td>\n",
       "      <td>0</td>\n",
       "    </tr>\n",
       "  </tbody>\n",
       "</table>\n",
       "<p>2409 rows × 14 columns</p>\n",
       "</div>"
      ],
      "text/plain": [
       "       employee_id         department     region education gender  \\\n",
       "10           29934         Technology  region_23       NaN      m   \n",
       "21           33332         Operations  region_15       NaN      m   \n",
       "32           35465  Sales & Marketing   region_7       NaN      f   \n",
       "43           17423  Sales & Marketing   region_2       NaN      m   \n",
       "82           66013  Sales & Marketing   region_2       NaN      m   \n",
       "...            ...                ...        ...       ...    ...   \n",
       "54692        14821  Sales & Marketing   region_2       NaN      f   \n",
       "54717         7684          Analytics   region_2       NaN      m   \n",
       "54729         1797                 HR   region_2       NaN      f   \n",
       "54742        38935  Sales & Marketing  region_31       NaN      m   \n",
       "54806        13614  Sales & Marketing   region_9       NaN      m   \n",
       "\n",
       "      recruitment_channel  no_of_trainings  age  previous_year_rating  \\\n",
       "10               sourcing                1   30                   NaN   \n",
       "21               sourcing                1   41                   4.0   \n",
       "32               sourcing                1   24                   1.0   \n",
       "43                  other                3   24                   2.0   \n",
       "82               sourcing                2   25                   3.0   \n",
       "...                   ...              ...  ...                   ...   \n",
       "54692            sourcing                1   35                   3.0   \n",
       "54717            sourcing                1   32                   3.0   \n",
       "54729               other                1   28                   3.0   \n",
       "54742               other                1   28                   4.0   \n",
       "54806            sourcing                1   29                   1.0   \n",
       "\n",
       "       length_of_service  KPIs_met >80%  awards_won?  avg_training_score  \\\n",
       "10                     1              0            0                  77   \n",
       "21                    11              0            0                  57   \n",
       "32                     2              0            0                  48   \n",
       "43                     2              0            0                  48   \n",
       "82                     2              0            0                  53   \n",
       "...                  ...            ...          ...                 ...   \n",
       "54692                  7              0            0                  53   \n",
       "54717                  4              0            0                  86   \n",
       "54729                  2              0            0                  53   \n",
       "54742                  3              0            0                  47   \n",
       "54806                  2              0            0                  45   \n",
       "\n",
       "       is_promoted  \n",
       "10               0  \n",
       "21               0  \n",
       "32               0  \n",
       "43               0  \n",
       "82               0  \n",
       "...            ...  \n",
       "54692            0  \n",
       "54717            0  \n",
       "54729            0  \n",
       "54742            0  \n",
       "54806            0  \n",
       "\n",
       "[2409 rows x 14 columns]"
      ]
     },
     "execution_count": 9,
     "metadata": {},
     "output_type": "execute_result"
    }
   ],
   "source": [
    "train_df[train_df['education'].isnull()] #Check where education values is null"
   ]
  },
  {
   "cell_type": "code",
   "execution_count": 10,
   "metadata": {},
   "outputs": [
    {
     "data": {
      "text/plain": [
       "3.0    18618\n",
       "5.0    11741\n",
       "4.0     9877\n",
       "1.0     6223\n",
       "2.0     4225\n",
       "Name: previous_year_rating, dtype: int64"
      ]
     },
     "execution_count": 10,
     "metadata": {},
     "output_type": "execute_result"
    }
   ],
   "source": [
    "train_df['previous_year_rating'].value_counts()"
   ]
  },
  {
   "cell_type": "code",
   "execution_count": 11,
   "metadata": {},
   "outputs": [
    {
     "data": {
      "text/plain": [
       "Sales & Marketing    16840\n",
       "Operations           11348\n",
       "Technology            7138\n",
       "Procurement           7138\n",
       "Analytics             5352\n",
       "Finance               2536\n",
       "HR                    2418\n",
       "Legal                 1039\n",
       "R&D                    999\n",
       "Name: department, dtype: int64"
      ]
     },
     "execution_count": 11,
     "metadata": {},
     "output_type": "execute_result"
    },
    {
     "data": {
      "image/png": "iVBORw0KGgoAAAANSUhEUgAAA8AAAAHwCAYAAABpMwYfAAAAOXRFWHRTb2Z0d2FyZQBNYXRwbG90bGliIHZlcnNpb24zLjMuMiwgaHR0cHM6Ly9tYXRwbG90bGliLm9yZy8vihELAAAACXBIWXMAAAsTAAALEwEAmpwYAAA2d0lEQVR4nO3de7wvdV0v/tdbUMSj4IWtGaCYogVUGjtCrSSpn1Qq2JHCo4nFiTTT8uQpyZOS59BPu/nTFI3jBTBSEW9oaRreb+BGUUQlSUx2oGzveAEF378/ZpZ8WXvttRew123P8/l4fB9rvp+Zz8xnZr5r1ry+n5lZ1d0BAACAnd0tVrsBAAAAsBIEYAAAACZBAAYAAGASBGAAAAAmQQAGAABgEgRgAAAAJkEABgDWhKq6W1V9s6p22cHz/bmqunhHzhOA9UkABmDNqqrPVdV3quqqqvpaVX2gqh5fVavy96uq9quqrqpdV2n5p1bV/9nONFVVT66qT1TVt6pqc1W9pqp+fAnzX9X16+7Pd/dtu/u6mzOfcR3uNTPf93b3fW5+CwFY7wRgANa6h3X37ZLcPcmzk/xJkpeudCNWKxTeBM9L8gdJnpzkjknuneQNSX51Fdu0Xeto+wKwjgnAAKwL3f317j47yW8kObaqDkqSqtqtqv66qj5fVV+sqhdX1e7juMPGHtA/raovjT3Kj56bZ1X9alV9tKq+UVWXVdWJM+PmekOPq6rPJ3lHkveMo782Xqp7/6p6XFW9v6qeO/ZSf7aqHjCWX1ZVV1bVsTPzXUp7/2isd0VV/dY47vgkj07yx+Oy3zR/G1XV/kmemORR3f2O7r6mu7/d3Wd097O3t84Lrd9Y57er6lNV9dWq+pequvvMMv+fqrq4qr5eVSdX1bur6r+P425RVf+rqv5jXJ/Tq2rPbW3f2R7ocdt+c+Z1dVV9bqx7SFV9cNzeV1TVC6rqVuO4uXX42FjvN+a260ybf6yq3jXWv6iqHj4z7tSqemFV/VMNVx6cW1X33NbnEoD1RQAGYF3p7vOSbE7yc2PRczL0ct43yb2S7J3kGTNVfijJXmP5sUlOqaq5y2G/leSxSW6foYf0CVV11LxFPijJjyV5SJKfH8tuP16q+8Hx/c8k+XiSOyX5xySvSvLTY3sek+QFVXXbG9HePcfy45K8sKru0N2nJDkjyV+Oy37YApvn8CSbx220LYut81brN4770yS/lmRDkvcmeWWSVNVeSc5KcsK47hcnecDMsh43vn4hyY8kuW2SF8xrz+z2/YHu/uDYhtsmuUOSD80tN8l1SZ6SYb/ef1zv3xvrza3DT471Xz0736q6ZZI3JXlbkjsneVKSM2Y+E0nyqCR/Pi73kiQnBYCdggAMwHp0eZI7VlUl+Z0kT+nur3T3VUn+Iskx86b/s7E39N1J/inJrydJd7+ruy/s7u9398czBKwHzat7Ynd/q7u/s0h7Lu3ul4/3rr46yb5JnjUu821JvpvkXkts7/fGut/r7n9O8s0kS71/9U5JrlhsgiWu86zfTfL/dvenuvvasb33HXuBfyXJRd39unHc85N8Yabuo5P8bXd/tru/mSEoHzPvcuelbN/nZwjuTx/X4fzu/lB3X9vdn0vy99tZh1mHZgjiz+7u73b3O5K8OUPonfO67j5vXKczMnxZAcBOwP02AKxHeyf5SoYeydskOX/IlkmSSjL7FOGvdve3Zt7/R5IfTpKq+pkM9xUflORWSXZL8pp5y7psCe354szwd5Kku+eX3XaJ7f3yGLzmfHusuxRfTnLXxSZY4jrPunuS51XV38zOJsM++OHMbJ/u7tlLjcfx/zHz/j8ynHvcZaZs0e1bVb+b5LAkh3b398eyeyf52yQbM2zPXZOcv9h85rXpsrl5zbRr75n3syH+xmx/ANY4PcAArCtV9dMZwsr7knwpQ7g8sLtvP772HC+bnXOHqvovM+/vlqEHORkuVz47yb7dvWeSF2cId7N6G8M3xVLau5jtLf+cJPtU1cZFpllsnRea/2VJfnemvbfv7t27+wMZepv3mZtw7OHeZ6bu5RkC9Jy7Jbk2N/zCYJvrVFU/l+R/Jzmyu78+M+pFST6dZP/u3iPDJdrz99u2XJ5k37rhk8TvluQ/l1gfgHVMAAZgXaiqParqoRnur/2Huct4k/zfJM+tqjuP0+1dVQ+ZV/3Pq+pWY6B6aK7v8bxdkq9099VVdUiS/7adZmxJ8v0M97PeaDeivdvyxcWW3d2fSXJykleOD366VVXduqqOqaqnjZMtts4Lrd+Lk5xQVQeO7d2zqo4ex/1Tkh+vqqPGy5qfmOEe5jmvTPKUqrrHeA/0XyR59bwe7gVV1b4ZLid/bHf/27zRt0vyjSTfrKofTfKEeeMX207nZric+o+r6pZVdViSh2X4XAGwkxOAAVjr3lRVV2XoiXx6hktff2tm/J9keFDRh6rqG0n+NTe8Z/YLSb6aoefvjCSP7+5Pj+N+L8mzxvk/I8mZizWku7+d4YFI7x+fIHzoTVif7bV3MS9NcsC47DdsY5onZ3jQ1AuTfC3Jvyd5RIYHPyWLrPNC69fdr8/w4K5Xje39RJJfHqf/UpKjk/xlhsuvD0iyKck14yxfluQVGZ4ufWmSqzM8dGopDs8Qps+aeRL0ReO4p2YI7ldl+ELh1fPqnpjktHEdfn12RHd/N8nDx3X4UoYvDB4785kAYCdW3Tf3ai4AWJvG3r1/6O59tjMpO8B4WfHmJI/u7neudnsAYD49wADATVZVD6mq21fVbrn+XtwPrXKzAGBBAjAAcHPcP8Nl1l/KcC/tUdv5l0YAsGpcAg0AAMAk6AEGAABgEgRgAAAAJmHX1W7ASttrr716v/32W+1mAAAAsAzOP//8L3X3hoXGTS4A77ffftm0adNqNwMAAIBlUFX/sa1xLoEGAABgEgRgAAAAJkEABgAAYBIEYAAAACZBAAYAAGASBGAAAAAmQQAGAABgEgRgAAAAJkEABgAAYBIEYAAAACZBAAYAAGASBGAAAAAmQQAGAABgEgRgAAAAJkEABgAAYBIEYAAAACZBAAYAAGASBGAAAAAmQQAGAABgEnZd7QasVQf/z9NXuwnr1vl/9djVbgIAAMBW9AADAAAwCQIwAAAAkyAAAwAAMAkCMAAAAJMgAAMAADAJAjAAAACTIAADAAAwCQIwAAAAkyAAAwAAMAkCMAAAAJMgAAMAADAJAjAAAACTIAADAAAwCQIwAAAAkyAAAwAAMAkCMAAAAJOwbAG4ql5WVVdW1SfmlT+pqi6uqouq6i9nyk+oqkvGcQ+ZKT+4qi4cxz2/qmos362qXj2Wn1tV+y3XugAAALD+LWcP8KlJjpgtqKpfSHJkkp/o7gOT/PVYfkCSY5IcONY5uap2Gau9KMnxSfYfX3PzPC7JV7v7Xkmem+Q5y7guAAAArHPLFoC7+z1JvjKv+AlJnt3d14zTXDmWH5nkVd19TXdfmuSSJIdU1V2T7NHdH+zuTnJ6kqNm6pw2Dp+V5PC53mEAAACYb6XvAb53kp8bL1l+d1X99Fi+d5LLZqbbPJbtPQ7PL79Bne6+NsnXk9xpoYVW1fFVtamqNm3ZsmWHrQwAAADrx0oH4F2T3CHJoUn+Z5Izx17bhXpue5HybGfcDQu7T+nujd29ccOGDTe+1QAAAKx7Kx2ANyd5XQ/OS/L9JHuN5fvOTLdPksvH8n0WKM9snaraNcme2fqSawAAAEiy8gH4DUkenCRVde8kt0rypSRnJzlmfLLzPTI87Oq87r4iyVVVdejYU/zYJG8c53V2kmPH4Ucmecd4nzAAAABsZdflmnFVvTLJYUn2qqrNSZ6Z5GVJXjb+a6TvJjl2DK0XVdWZST6Z5NokT+zu68ZZPSHDE6V3T/KW8ZUkL03yiqq6JEPP7zHLtS4AAACsf8sWgLv7UdsY9ZhtTH9SkpMWKN+U5KAFyq9OcvTNaSMAAADTsdKXQAMAAMCqEIABAACYBAEYAACASRCAAQAAmAQBGAAAgEkQgAEAAJgEARgAAIBJEIABAACYBAEYAACASRCAAQAAmAQBGAAAgEkQgAEAAJgEARgAAIBJEIABAACYBAEYAACASRCAAQAAmAQBGAAAgEkQgAEAAJgEARgAAIBJEIABAACYBAEYAACASRCAAQAAmAQBGAAAgEkQgAEAAJgEARgAAIBJEIABAACYBAEYAACASRCAAQAAmAQBGAAAgEkQgAEAAJgEARgAAIBJEIABAACYBAEYAACASRCAAQAAmAQBGAAAgEkQgAEAAJgEARgAAIBJEIABAACYBAEYAACASRCAAQAAmIRlC8BV9bKqurKqPrHAuKdWVVfVXjNlJ1TVJVV1cVU9ZKb84Kq6cBz3/KqqsXy3qnr1WH5uVe23XOsCAADA+recPcCnJjlifmFV7Zvkl5J8fqbsgCTHJDlwrHNyVe0yjn5RkuOT7D++5uZ5XJKvdve9kjw3yXOWZS0AAADYKSxbAO7u9yT5ygKjnpvkj5P0TNmRSV7V3dd096VJLklySFXdNcke3f3B7u4kpyc5aqbOaePwWUkOn+sdBgAAgPlW9B7gqnp4kv/s7o/NG7V3kstm3m8ey/Yeh+eX36BOd1+b5OtJ7rSN5R5fVZuqatOWLVtu9noAAACw/qxYAK6q2yR5epJnLDR6gbJepHyxOlsXdp/S3Ru7e+OGDRuW0lwAAAB2MivZA3zPJPdI8rGq+lySfZJ8pKp+KEPP7r4z0+6T5PKxfJ8FyjNbp6p2TbJnFr7kGgAAAFYuAHf3hd195+7er7v3yxBgf6q7v5Dk7CTHjE92vkeGh12d191XJLmqqg4d7+99bJI3jrM8O8mx4/Ajk7xjvE8YAAAAtrKc/wbplUk+mOQ+VbW5qo7b1rTdfVGSM5N8Mslbkzyxu68bRz8hyUsyPBjr35O8ZSx/aZI7VdUlSf5Hkqcty4oAAACwU9h1uWbc3Y/azvj95r0/KclJC0y3KclBC5RfneTom9dKAAAApmJFnwINAAAAq0UABgAAYBIEYAAAACZBAAYAAGASBGAAAAAmQQAGAABgEgRgAAAAJkEABgAAYBIEYAAAACZBAAYAAGASBGAAAAAmQQAGAABgEgRgAAAAJkEABgAAYBIEYAAAACZBAAYAAGASBGAAAAAmQQAGAABgEgRgAAAAJkEABgAAYBIEYAAAACZBAAYAAGASBGAAAAAmQQAGAABgEgRgAAAAJkEABgAAYBIEYAAAACZBAAYAAGASBGAAAAAmQQAGAABgEgRgAAAAJkEABgAAYBIEYAAAACZBAAYAAGASBGAAAAAmQQAGAABgEgRgAAAAJkEABgAAYBIEYAAAACZBAAYAAGASli0AV9XLqurKqvrETNlfVdWnq+rjVfX6qrr9zLgTquqSqrq4qh4yU35wVV04jnt+VdVYvltVvXosP7eq9luudQEAAGD9W84e4FOTHDGv7O1JDurun0jyb0lOSJKqOiDJMUkOHOucXFW7jHVelOT4JPuPr7l5Hpfkq919ryTPTfKcZVsTAAAA1r1lC8Dd/Z4kX5lX9rbuvnZ8+6Ek+4zDRyZ5VXdf092XJrkkySFVddcke3T3B7u7k5ye5KiZOqeNw2clOXyudxgAAADmW817gH87yVvG4b2TXDYzbvNYtvc4PL/8BnXGUP31JHdaxvYCAACwjq1KAK6qpye5NskZc0ULTNaLlC9WZ6HlHV9Vm6pq05YtW25scwEAANgJrHgArqpjkzw0yaPHy5qToWd335nJ9kly+Vi+zwLlN6hTVbsm2TPzLrme092ndPfG7t64YcOGHbUqAAAArCMrGoCr6ogkf5Lk4d397ZlRZyc5Znyy8z0yPOzqvO6+IslVVXXoeH/vY5O8cabOsePwI5O8YyZQAwAAwA3sulwzrqpXJjksyV5VtTnJMzM89Xm3JG8fn1f1oe5+fHdfVFVnJvlkhkujn9jd142zekKGJ0rvnuGe4bn7hl+a5BVVdUmGnt9jlmtdAAAAWP+WLQB396MWKH7pItOflOSkBco3JTlogfKrkxx9c9oIAADAdKzmU6ABAABgxQjAAAAATIIADAAAwCQIwAAAAEyCAAwAAMAkCMAAAABMggAMAADAJAjAAAAATIIADAAAwCQIwAAAAEyCAAwAAMAk7LraDYDt+fyzfny1m7Cu3e0ZF652EwAAYE3QAwwAAMAkCMAAAABMggAMAADAJAjAAAAATIIADAAAwCQIwAAAAEyCAAwAAMAkCMAAAABMggAMAADAJAjAAAAATIIADAAAwCQIwAAAAEyCAAwAAMAkCMAAAABMggAMAADAJAjAAAAATIIADAAAwCQIwAAAAEyCAAwAAMAkCMAAAABMggAMAADAJAjAAAAATIIADAAAwCQIwAAAAEyCAAwAAMAkCMAAAABMggAMAADAJAjAAAAATMKyBeCqellVXVlVn5gpu2NVvb2qPjP+vMPMuBOq6pKquriqHjJTfnBVXTiOe35V1Vi+W1W9eiw/t6r2W651AQAAYP1bzh7gU5McMa/saUnO6e79k5wzvk9VHZDkmCQHjnVOrqpdxjovSnJ8kv3H19w8j0vy1e6+V5LnJnnOsq0JAAAA696yBeDufk+Sr8wrPjLJaePwaUmOmil/VXdf092XJrkkySFVddcke3T3B7u7k5w+r87cvM5Kcvhc7zAAAADMt9L3AN+lu69IkvHnncfyvZNcNjPd5rFs73F4fvkN6nT3tUm+nuROy9ZyAAAA1rW18hCshXpue5HyxepsPfOq46tqU1Vt2rJly01sIgAAAOvZSgfgL46XNWf8eeVYvjnJvjPT7ZPk8rF8nwXKb1CnqnZNsme2vuQ6SdLdp3T3xu7euGHDhh20KgAAAKwnKx2Az05y7Dh8bJI3zpQfMz7Z+R4ZHnZ13niZ9FVVdeh4f+9j59WZm9cjk7xjvE8YAAAAtrLrcs24ql6Z5LAke1XV5iTPTPLsJGdW1XFJPp/k6CTp7ouq6swkn0xybZIndvd146yekOGJ0rsnecv4SpKXJnlFVV2Soef3mOVaFwAAANa/ZQvA3f2obYw6fBvTn5TkpAXKNyU5aIHyqzMGaAAAANietfIQLAAAAFhWAjAAAACTIAADAAAwCQIwAAAAkyAAAwAAMAkCMAAAAJMgAAMAADAJAjAAAACTIAADAAAwCQIwAAAAkyAAAwAAMAkCMAAAAJOwpABcVecspQwAAADWql0XG1lVt05ymyR7VdUdktQ4ao8kP7zMbQMAAIAdZtEAnOR3k/xhhrB7fq4PwN9I8sLlaxYAAADsWIsG4O5+XpLnVdWTuvvvVqhNAAAAsMNtrwc4SdLdf1dVD0iy32yd7j59mdoFAAAAO9SSAnBVvSLJPZNckOS6sbiTCMAAAACsC0sKwEk2Jjmgu3s5GwMAAADLZan/B/gTSX5oORsCAAAAy2mpPcB7JflkVZ2X5Jq5wu5++LK0CgAAAHawpQbgE5ezEQAAALDclvoU6Hcvd0MAAABgOS31KdBXZXjqc5LcKsktk3yru/dYroYBAADAjrTUHuDbzb6vqqOSHLIcDQIAAIDlsNSnQN9Ad78hyYN3bFMAAABg+Sz1Euhfm3l7iwz/F9j/BAYAAGDdWOpToB82M3xtks8lOXKHtwYAAACWyVLvAf6t5W4IAAAALKcl3QNcVftU1eur6sqq+mJVvbaq9lnuxgEAAMCOstSHYL08ydlJfjjJ3kneNJYBAADAurDUALyhu1/e3deOr1OTbFjGdgEAAMAOtdQA/KWqekxV7TK+HpPky8vZMAAAANiRlhqAfzvJryf5QpIrkjwyiQdjAQAAsG4s9d8g/e8kx3b3V5Okqu6Y5K8zBGMAAABY85baA/wTc+E3Sbr7K0nutzxNAgAAgB1vqQH4FlV1h7k3Yw/wUnuPAQAAYNUtNcT+TZIPVNVZSTrD/cAnLVurAAAAYAdbUgDu7tOralOSByepJL/W3Z9c1pYBAADADrTky5jHwCv0AgAAsC4t9R7gHaqqnlJVF1XVJ6rqlVV166q6Y1W9vao+M/6cvef4hKq6pKourqqHzJQfXFUXjuOeX1W1GusDAADA2rfiAbiq9k7y5CQbu/ugJLskOSbJ05Kc0937JzlnfJ+qOmAcf2CSI5KcXFW7jLN7UZLjk+w/vo5YwVUBAABgHVmVHuAMl17vXlW7JrlNksuTHJnktHH8aUmOGoePTPKq7r6muy9NckmSQ6rqrkn26O4PdncnOX2mDgAAANzAigfg7v7PJH+d5PNJrkjy9e5+W5K7dPcV4zRXJLnzWGXvJJfNzGLzWLb3ODy/HAAAALayGpdA3yFDr+49kvxwkv9SVY9ZrMoCZb1I+ULLPL6qNlXVpi1bttzYJgMAALATWI1LoH8xyaXdvaW7v5fkdUkekOSL42XNGX9eOU6/Ocm+M/X3yXDJ9OZxeH75Vrr7lO7e2N0bN2zYsENXBgAAgPVhNQLw55McWlW3GZ/afHiSTyU5O8mx4zTHJnnjOHx2kmOqarequkeGh12dN14mfVVVHTrO57EzdQAAAOAGlvx/gHeU7j63qs5K8pEk1yb5aJJTktw2yZlVdVyGkHz0OP1FVXVmhv9BfG2SJ3b3dePsnpDk1CS7J3nL+AIAAICtrHgATpLufmaSZ84rviZDb/BC05+U5KQFyjclOWiHNxAAAICdzmr9GyQAAABYUQIwAAAAkyAAAwAAMAkCMAAAAJMgAAMAADAJAjAAAACTIAADAAAwCQIwAAAAkyAAAwAAMAkCMAAAAJMgAAMAADAJAjAAAACTIAADAAAwCQIwAAAAkyAAAwAAMAkCMAAAAJOw62o3AFg/Hvh3D1ztJqxr73/S+1e7CbDTO+kxj1ztJqxbT/+Hs1a7CQDLTg8wAAAAkyAAAwAAMAkCMAAAAJMgAAMAADAJAjAAAACTIAADAAAwCQIwAAAAkyAAAwAAMAkCMAAAAJMgAAMAADAJAjAAAACTIAADAAAwCQIwAAAAkyAAAwAAMAkCMAAAAJMgAAMAADAJAjAAAACTIAADAAAwCQIwAAAAkyAAAwAAMAkCMAAAAJMgAAMAADAJAjAAAACTIAADAAAwCasSgKvq9lV1VlV9uqo+VVX3r6o7VtXbq+oz4887zEx/QlVdUlUXV9VDZsoPrqoLx3HPr6pajfUBAABg7VutHuDnJXlrd/9okp9M8qkkT0tyTnfvn+Sc8X2q6oAkxyQ5MMkRSU6uql3G+bwoyfFJ9h9fR6zkSgAAALB+rHgArqo9kvx8kpcmSXd/t7u/luTIJKeNk52W5Khx+Mgkr+rua7r70iSXJDmkqu6aZI/u/mB3d5LTZ+oAAADADaxGD/CPJNmS5OVV9dGqeklV/Zckd+nuK5Jk/Hnncfq9k1w2U3/zWLb3ODy/fCtVdXxVbaqqTVu2bNmxawMAAMC6sBoBeNckP5XkRd19vyTfyni58zYsdF9vL1K+dWH3Kd29sbs3btiw4ca2FwAAgJ3AagTgzUk2d/e54/uzMgTiL46XNWf8eeXM9PvO1N8nyeVj+T4LlAMAAMBWVjwAd/cXklxWVfcZiw5P8skkZyc5diw7Nskbx+GzkxxTVbtV1T0yPOzqvPEy6auq6tDx6c+PnakDAAAAN7DrKi33SUnOqKpbJflskt/KEMbPrKrjknw+ydFJ0t0XVdWZGULytUme2N3XjfN5QpJTk+ye5C3jCwAAALayKgG4uy9IsnGBUYdvY/qTkpy0QPmmJAft0MYBAACwU1qt/wMMAAAAK0oABgAAYBIEYAAAACZBAAYAAGASBGAAAAAmQQAGAABgEgRgAAAAJkEABgAAYBIEYAAAACZBAAYAAGASdl3tBgBw07z75x+02k1Ytx70nnevdhMAgFWgBxgAAIBJEIABAACYBAEYAACASRCAAQAAmAQBGAAAgEkQgAEAAJgEARgAAIBJEIABAACYBAEYAACASRCAAQAAmAQBGAAAgEkQgAEAAJgEARgAAIBJEIABAACYBAEYAACASRCAAQAAmAQBGAAAgEkQgAEAAJgEARgAAIBJEIABAACYBAEYAACASRCAAQAAmAQBGAAAgEkQgAEAAJgEARgAAIBJEIABAACYBAEYAACASRCAAQAAmAQBGAAAgElYtQBcVbtU1Uer6s3j+ztW1dur6jPjzzvMTHtCVV1SVRdX1UNmyg+uqgvHcc+vqlqNdQEAAGDtW80e4D9I8qmZ909Lck5375/knPF9quqAJMckOTDJEUlOrqpdxjovSnJ8kv3H1xEr03QAAADWm1UJwFW1T5JfTfKSmeIjk5w2Dp+W5KiZ8ld19zXdfWmSS5IcUlV3TbJHd3+wuzvJ6TN1AAAA4AZWqwf4/0vyx0m+P1N2l+6+IknGn3cey/dOctnMdJvHsr3H4fnlW6mq46tqU1Vt2rJlyw5ZAQAAANaXFQ/AVfXQJFd29/lLrbJAWS9SvnVh9yndvbG7N27YsGGJiwUAAGBnsusqLPOBSR5eVb+S5NZJ9qiqf0jyxaq6a3dfMV7efOU4/eYk+87U3yfJ5WP5PguUAwAAwFZWvAe4u0/o7n26e78MD7d6R3c/JsnZSY4dJzs2yRvH4bOTHFNVu1XVPTI87Oq88TLpq6rq0PHpz4+dqQMAAAA3sBo9wNvy7CRnVtVxST6f5Ogk6e6LqurMJJ9Mcm2SJ3b3dWOdJyQ5NcnuSd4yvgAAAGArqxqAu/tdSd41Dn85yeHbmO6kJCctUL4pyUHL10IAAAB2Fqv5f4ABAABgxQjAAAAATIIADAAAwCQIwAAAAEyCAAwAAMAkCMAAAABMggAMAADAJAjAAAAATIIADAAAwCQIwAAAAEyCAAwAAMAkCMAAAABMggAMAADAJAjAAAAATIIADAAAwCQIwAAAAEyCAAwAAMAkCMAAAABMggAMAADAJAjAAAAATIIADAAAwCQIwAAAAEyCAAwAAMAkCMAAAABMggAMAADAJAjAAAAATIIADAAAwCQIwAAAAEyCAAwAAMAkCMAAAABMwq6r3QAAAHY+nzrpHavdhHXtx57+4NVuAuyU9AADAAAwCQIwAAAAk+ASaAAA2ImdeOKJq92Edc3227noAQYAAGASBGAAAAAmQQAGAABgEgRgAAAAJkEABgAAYBIEYAAAACZhxQNwVe1bVe+sqk9V1UVV9Qdj+R2r6u1V9Znx5x1m6pxQVZdU1cVV9ZCZ8oOr6sJx3POrqlZ6fQAAAFgfVqMH+Nokf9TdP5bk0CRPrKoDkjwtyTndvX+Sc8b3Gccdk+TAJEckObmqdhnn9aIkxyfZf3wdsZIrAgAAwPqx4gG4u6/o7o+Mw1cl+VSSvZMcmeS0cbLTkhw1Dh+Z5FXdfU13X5rkkiSHVNVdk+zR3R/s7k5y+kwdAAAAuIFVvQe4qvZLcr8k5ya5S3dfkQwhOcmdx8n2TnLZTLXNY9ne4/D8cgAAANjKqgXgqrptktcm+cPu/sZiky5Q1ouUL7Ss46tqU1Vt2rJly41vLAAAAOveqgTgqrplhvB7Rne/biz+4nhZc8afV47lm5PsO1N9nySXj+X7LFC+le4+pbs3dvfGDRs27LgVAQAAYN1YjadAV5KXJvlUd//tzKizkxw7Dh+b5I0z5cdU1W5VdY8MD7s6b7xM+qqqOnSc52Nn6gAAAMAN7LoKy3xgkt9McmFVXTCW/WmSZyc5s6qOS/L5JEcnSXdfVFVnJvlkhidIP7G7rxvrPSHJqUl2T/KW8QUAAABbWfEA3N3vy8L37ybJ4duoc1KSkxYo35TkoB3XOgAAAHZWq/oUaAAAAFgpAjAAAACTIAADAAAwCQIwAAAAkyAAAwAAMAkCMAAAAJMgAAMAADAJAjAAAACTIAADAAAwCQIwAAAAkyAAAwAAMAkCMAAAAJMgAAMAADAJAjAAAACTIAADAAAwCQIwAAAAkyAAAwAAMAkCMAAAAJOw62o3AAAAYCrOfM0hq92EdevXjz7vZs9DAAaAm+kFf/Sm1W7CuvX7f/Ow1W4CABPiEmgAAAAmQQAGAABgEgRgAAAAJkEABgAAYBIEYAAAACZBAAYAAGASBGAAAAAmQQAGAABgEgRgAAAAJkEABgAAYBIEYAAAACZBAAYAAGASBGAAAAAmQQAGAABgEgRgAAAAJkEABgAAYBIEYAAAACZBAAYAAGASBGAAAAAmQQAGAABgEtZ9AK6qI6rq4qq6pKqettrtAQAAYG1a1wG4qnZJ8sIkv5zkgCSPqqoDVrdVAAAArEXrOgAnOSTJJd392e7+bpJXJTlyldsEAADAGrTeA/DeSS6beb95LAMAAIAbqO5e7TbcZFV1dJKHdPd/H9//ZpJDuvtJ86Y7Psnx49v7JLl4RRu6PPZK8qXVbgRJ7Iu1xL5YO+yLtcO+WFvsj7XDvlg77Iu1Y2fZF3fv7g0Ljdh1pVuyg21Osu/M+32SXD5/ou4+JckpK9WolVBVm7p742q3A/tiLbEv1g77Yu2wL9YW+2PtsC/WDvti7ZjCvljvl0B/OMn+VXWPqrpVkmOSnL3KbQIAAGANWtc9wN19bVX9fpJ/SbJLkpd190Wr3CwAAADWoHUdgJOku/85yT+vdjtWwU51Sfc6Z1+sHfbF2mFfrB32xdpif6wd9sXaYV+sHTv9vljXD8ECAACApVrv9wADAADAkgjASarq6VV1UVV9vKouqKqf2c70p1bVI3fAcg+tqo9V1YVVddoi0x1WVV1Vx82U3W8se+qNXOaJN6ZOVf3pvPcfuDHLW01VtU9VvbGqPlNV/15Vzxsflracy3xcVf3wzPuXVNUBy7nMtayq7jT+Tl1QVV+oqv+ceb/dfTF+9t+8g9ryuKp6wY6Y186oqh4xHlN+9GbMY7vHxvV8TFlrquq68XfpE1X1pqq6/cy4/avqvPHv2r/Oq3dYVX29qj5aVRdX1Xuq6qErvgKraN62e01V3Wa127Rcquq+VfUrq92OHWlm/8299nMsWR+q6pvz3v/gb/N4jjp3nvDJqnrU6rRy5zJ/m6+3+S+HyQfgqrp/kocm+anu/okkv5jkshVa/ElJ/rC7fzzJiduZ9sIkvzHz/pgkH7sxC6uqm3LP9w1OVrv7ATdhHiuuqirJ65K8obv3T3LvJLfNsM1v7rx3WWT045L8IAB393/v7k/e3GWuV9395e6+b3ffN8mLkzx37n13f3eVm8cNPSrJ+zIcW5bTujymrFHfGX+XDkrylSRPnBn3tCQvGv+u/c4Cdd/b3ffr7vskeXKSF1TV4cvf5DVjdtt9N8njZ0du5zh/k93Ev8M3132T7FQBONfvv7nX5xxLdhrPHc8Zjkzy91V1y1VuDzuhyQfgJHdN8qXuviZJuvtL3X15klTVM6rqw+M3xKeMoeoGqurgqnp3VZ1fVf9SVXcdy588fnv18ap61TaW/d0M/7s43X3pdtr5+SS3rqq7jO04IslbZtrxO2NbP1ZVr537NnvskfnbqnpnkufMa/vvVNVbqmr3qnrM2FtwQVX9fVXtUlXPTrL7WHbGWOeb48/DqupdVXVWVX26qs6Y2z5V9Stj2fuq6vk7qgfvRnpwkqu7++VJ0t3XJXlKkt+uqt+roWf4rWPvxzPnKi20Hcbyb1bVs6rq3CT3X+izMfZ8bUxyxlh/93EbbRzn8agaevs/UVXPmVnmN6vqpHHffaiq7jKWHz1O+7Gqes9KbbjltsjvzL2q6l/H9f1IVd1zrHLbbXzOPldVfz5Oe2GNPZdVdceqesP4u/ehqvqJBdpw96o6Z5zmnKq621h+z7HOh8f9Pfd5f0VVHTlT/4yqevgyb6oVU1W3TfLAJMdlDMDb+R1f9NhYVYdX1etn3v9SVb1usWPKOPzH47782DjtUo+lJB9MsvfM+yX/fenuC5I8K8nvL1fj1rj3JrnX+Jl/Z1X9Y5ILq+rWVfXy8TP50ar6hWQIx1X112P5x6vqSWP556pqr3F4Y1W9axw+cfw9eVuS06tqQw1/pz88vh44M91pVfW2cV6/VlV/OS7nrTUGgUWOoe+qqufU8Dfs36rq52q40uZZSX5j/L37jeykamnnJwseuxbadmP5tvb1gvuAHae7P5Pk20nusNpt2RmN5ztvHT/D763rz6G2dR502xrOl+bOuY5cfAlrXHdP+pWhV/CCJP+W5OQkD5oZd8eZ4Vckedg4fGqSRya5ZZIPJNkwlv9Ghn/FlCSXJ9ltHL79Npb9giSbk2zcThsPS/LmDN/S/36GE9WXZ+g1fuo4zZ1mpv8/SZ4009Y3J9llfH9ikqeO8zk7yW5JfizJm5Lccpzm5CSPHYe/Oa8t35xp09cznGDdIsPJ188muXWGHvR7jNO9MsmbV2G/PjnDt4jzyz86jrsiyZ2S7J7kExmC62LboZP8+hI+G++a3Z9z7zP0Cn8+yYYMT19/R5KjZuY9V/8vk/yvcfjCJHsv9hlaT6/xs/c/F/mdOTfJI8bhWye5zbY+Z+M0n5v5nP9ekpeMw3+X5Jnj8IOTXDAOPy7JC8bhNyU5dhz+7QxXCiTD78qjxuHHz3zeHzQzzZ5JLk2y62pv0x24bx6T5KXj8AeS/NR2tv32jo2V5NMz+/kfZ6bZ1jHll8dl32Z2GVnCsXSqr5ltt0uS1yQ5YmbcU5N8KclDF6h3WOYdlzP0En5qtddpFbbdrknemOQJ43b5Vq7/+/VHSV4+Dv9oxi+ix2lfO3cMmPmsfi7JXuPwxiTvGodPTHJ+kt3H9/8487t0t7ntPk73vgznFj+Z4eT/l8dxr09yVBY/73hXkr8Zh38lyb+Ow4/LeOzbWV5Jrstw7nZBktfP26eH5cYfu7a17bba14vtA68bve8uGH+v5v42n5jrz2t/KsOVKqve5vX+yry/u2PZOUn2H4d/Jsk7xuFtnQftmmSPcXivJJfk+ocpbzX/tf6afA9wd38zycFJjk+yJcmrq+px4+hfqKpzq+rCDCfSB86rfp8kByV5e1VdkOR/ZfzGPcnHM/QEPibJtfOXO35zsmeGk75/rOF+rQ1V9eFFmntmkqMzXKr4ynnjDhq/wbkwyaPntfU1PfSAzvnNcbn/tYee78PHbfDhcT0OT/Iji7Rjznndvbm7v5/hILZfhpOEz/b1PQ7z27lSKkOw3Fb523u4PPc7GS6V/tksvh2uy/BHcM72Phvz/XSGk6Et3X1tkjOS/Pw47rsZDjjJcJK03zj8/iSnVtXvZDjB3RnslgV+Z6rqdhnC/uuTpLuv7u5vj3UW+pzNed34c3a7/WyGE5t09zuS3Kmq9pzXjvtnOAnNOO3PzpS/ZhyeG5/ufneGHqI7Z/j9e+24H3cWj0oy17v6qvF9su1tv+jnv4e/iK9I8pga7ku9f2auWNmGX8wQNr49zuMrY/mix9KJ2338PfpyhhPztydJVf1UhpP4+yX5q6p6QA0+O9fjtYBtle+s5rbdpgwn4C8dy8+b+fs1eyz5dJL/yHA7zS8mefHcMWDms7qYs8e/Nxnrv2Bc/tlJ9hiPgUnylu7+XoYvQHdJ8tax/MIMv3+LnXckCx8Td0azl0A/YoHxN+XYtdC2W2hfb28fsLgbXL6e5Bnzxj+lqi7O8KX4iSvduCmo4aqvByR5zfgZ/vsMV8Qm2zgPyvA34i+q6uNJ/jXDFUd3WZEGL4N1/3+Ad4QxHL4rybvGg+KxNVxqd3KG3rzLqurEDN/8zqokF3X3/ReY7a9mCDgPT/JnVXXgvBPmhyQ5p7svrOHhVm/M8IF79SLt/EJVfS/JLyX5gwwf3jmnZuhR/NgY4A+bGfetebP6RIZv+/fJ0JNVSU7r7hO2textuGZm+LoMn6e1chJ1UZL/OltQVXsk2TdDW+eH487i2+HquS8RqurW2f5nY77Ftsv3xsCQXL8d092Pr+GBbL+a5IKqum93f3k7y1nrFvydGffNtiz0OZs/brZ8oW290JchN2Z8MpwIPzrDJcK/vYTp14WqulOGE8GDqqoznHR3hv+vvtW2vxGf/5dn6Gm/OsOXcNsLr9v60mp7x9Ip+05333f8gufNGe4Bfn6Gk/b3jPvnERlC1ouT/HN39zYy8P2SfGqF2r0WfGc8+f6BcbvM/r1c7MuChT6r1+b6W8vm/07MzvcWSe4/E4hnlz93O9b3q2r2b8P3c/3f2G2dd/ygfrY+Vk7NTTl2bevvyfx9vb19wM3z3O7+66r6tQy3DNyzu69e7UbtZG6R5Gvzj4Hb8egMVzEe3N3fq6rPZfvnvmvW5HuAq+o+VbX/TNF9M3zLO7dTvzR+U7LQk00vTrKhhgdppapuWVUHVtUtkuzb3e9M8sdJbp/hUutZH81wT86tu/u9GS5venq232P6jCR/Mq9HN0lul+SKGu4RevR25vHRJL+b5Owanlh8TpJHjr1bc/dQ3n2c9nt14x5A8OkkP1JV+43vV+t+o3OS3KaqHpv84IEmf5Phi4JvJ/mlcT13z3BZ2fuz+HaYtdhn46oM+2K+c5M8qKr2GtvyqCTvXmwFxoP+ud39jAyXMu67/dVe867JAr8z3f2NJJur6qixfLe66U9lfU/G34GqOizDPf7fmDfNB3L9w54eneGywyT5UK7/4mT+w6BOTfKHSdLdF93Etq1Fj0xyenffvbv36+59M3wx9rPbmH4px8b08CyFyzP0jpw6M2pbx5S3ZbhHf+75BXdc4rF08rr76xlu7XjquG0/muTIqtpz7Ln8qwzHv39YqH4N98n/WZIXrlCT14vZY8m9M1yufHGGz+rja3ygVVXdcZz+cxmuIkrmfQE7z9syc791Vd33RrRpwfOO7dTZ1t+lqVnSsWuehfb1TdkH3Ejd/boMV2gcu9pt2dmM50SXVtXRyfDg2Kr6yXH0ts6D9kxy5Rh+fyHJQufH68bkA3CGk6nTanzISpIDkpzY3V9L8n8zXHb0hiRbXZrcw1NsH5nkOVX1sQyX2TwgQw/KP4y9yR/N8G3W1+ZVf+k47wuqalOGSw+emuSsxU78u/sD3f2GBUb9WYaQ9fYMIXRR3f2+cXn/lOTKDCepbxu3wdtz/aUQpyT5eI0PrFnCfL+T4X7Mt1bV+5J8McO9OCtq/Nb8EUmOrqrPZLjH++pc/wTa92Xo0bsgw+Wsm3p4WvO2tsPsvL+WbX82Tk3y4hofgjVT54okJyR5Z4and3+ku9+4ndX4qxofmpXhROxGPfV7jfp+Fv6dSYZL8588bvsPJPmhm7iME5NsHOfz7Cz8x/PJSX5rnOY3M1xRkQwB939U1XkZ9v0PPrvd/cUMPWQvv4ntWqseleELuFmvTfLfFpp4KcfGGWckuaxv+CT0BY8p3f3WDD2Vm8ZLsp6apR1LSdLdH81wjDimu9+eIex+qKrOz3DF0W9luKViw1jl52r8N0gZgu+Tu/uc1Wj7GnZykl3Gz9+rkzxuvG3oJRkum/74eByb+1358yTPq6r3ZuhF3JYnZzxGVdUnM+8J1ItZ5LxjMe9MckDt5A/B2p4beeyas9W+von7gJvmWRn+JssrN89tqmrzzOt/ZPhy77jxM3xRhqduJ9s+Dzojw3Fr01h3u1ljLZu7eRl2mKq6bXd/s4bruV6Y5DPd/dzVbtecGi4R39jdU33iKdswfvn0nfEy0WMyPAjiyJlxF2b4l2kr/qXOelTD/3b8aHe/dLsTAwCrarHzoJ3JlO8PYfn8TlUdm+RWGXpt/n6V2wNLdXCGh9NUkq9lvNe3qn4xycuS/K3wuzRjz+O3MjxJFwBY+xY8D9rZ6AEGAABgElxTDwAAwCQIwAAAAEyCAAwAAMAkCMAAsIqq6sSqeuoyzv/2VfV7yzX/lV4OANwcAjAA7KSqapckt8/w/9mX20otBwBuMgEYAFZYVT29qi6uqn9Ncp+x7J5V9daqOr+q3ltVPzqWn1pVLx7L/q2qHjqW7zeWfWR8PWAsP6yq3llV/5jhf1c/O8k9q+qCqvqrcfy7q+rMcX7PrqpHV9V5VXVhVd1znM+GqnptVX14fD1wLD+xql5WVe+qqs9W1ZPH1brBclZyewLAUvk/wACwgqrq4CTHJLlfhr/DH0lyfpJTkjy+uz9TVT+T5OQkDx6r7ZfkQUnumeSdVXWvJFcm+aXuvrqq9k/yyiQbx+kPSXJQd19aVfuNw/cdl39Ykp9M8mNJvpLks0le0t2HVNUfJHlSkj9M8rwkz+3u91XV3ZL8y1gnSX40yS8kuV2Si6vqRUmeNrscAFiLBGAAWFk/l+T13f3tJKmqs5PcOskDkrymquam222mzpnd/f0kn6mqz2YIoJcmeUFV3TfJdUnuPTP9ed196SJt+HB3XzEu/9+TvG0svzBDsE2SX0xywEx79qiq243D/9Td1yS5pqquTHKXpa48AKwmARgAVl7Pe3+LJF9bpPd0/vSd5ClJvpihN/cWSa6eGf+t7Sz/mpnh78+8/36uPze4RZL7d/d3ZiuOgXi2/nVxPgHAOuEeYABYWe9J8oiq2n3sUX1Ykm8nubSqjk6SGvzkTJ2jq+oW4/25P5Lk4iR7Jrli7Bn+zSS7bGN5V2W4VPnGeluS3597M/Y0L+amLgcAVowADAArqLs/kuTVSS5I8tok7x1HPTrJcVX1sSQXJTlyptrFSd6d5C0Z7hO+OsM9wsdW1YcyXP68YK9vd385yfur6hM38uFUT06ysao+XlWfTPL47azXTV0OAKyY6p5/VRUAsFZU1alJ3tzdZ612WwBgvdMDDAAAwCToAQYAAGAS9AADAAAwCQIwAAAAkyAAAwAAMAkCMAAAAJMgAAMAADAJAjAAAACT8P8DXVS3ouj2ZqwAAAAASUVORK5CYII=\n",
      "text/plain": [
       "<Figure size 1152x576 with 1 Axes>"
      ]
     },
     "metadata": {
      "needs_background": "light"
     },
     "output_type": "display_data"
    }
   ],
   "source": [
    "#We like to see the department distribution where Employees work\n",
    "plt.figure(figsize=(16,8))\n",
    "sns.countplot(x='department',data=train_df)\n",
    "plt.title('Department Categorization')\n",
    "train_df['department'].value_counts()"
   ]
  },
  {
   "cell_type": "code",
   "execution_count": 12,
   "metadata": {},
   "outputs": [],
   "source": [
    "# Feature Engineer departments to group them in a single entity.\n",
    "train_df['department'] = train_df['department'].replace({'Technology': 'IT','Analytics':'IT','Sales & Marketing':'Budget','Finance':'Budget','R&D':'Others','Legal':'Others','HR':'Others','Operations':'Execution','Procurement':'Execution'})\n",
    "test_df['department'] = test_df['department'].replace({'Technology': 'IT','Analytics':'IT','Sales & Marketing':'Budget','Finance':'Budget','R&D':'Others','Legal':'Others','HR':'Others','Operations':'Execution','Procurement':'Execution'})"
   ]
  },
  {
   "cell_type": "code",
   "execution_count": 13,
   "metadata": {},
   "outputs": [
    {
     "data": {
      "text/plain": [
       "Budget       19376\n",
       "Execution    18486\n",
       "IT           12490\n",
       "Others        4456\n",
       "Name: department, dtype: int64"
      ]
     },
     "execution_count": 13,
     "metadata": {},
     "output_type": "execute_result"
    }
   ],
   "source": [
    "train_df['department'].value_counts()"
   ]
  },
  {
   "cell_type": "code",
   "execution_count": 14,
   "metadata": {},
   "outputs": [],
   "source": [
    "#Converting the categorical values to numerical ones\n",
    "train_df['previous_year_rating']=train_df['previous_year_rating'].fillna(train_df['previous_year_rating'].mean())\n",
    "train_df['gender']=train_df['gender'].map({'f':0,'m':1})\n",
    "train_df['recruitment_channel']=train_df['recruitment_channel'].map({'sourcing':0, 'other':1})\n",
    "test_df['previous_year_rating']=test_df['previous_year_rating'].fillna(test_df['previous_year_rating'].mean())\n",
    "test_df['gender']=test_df['gender'].map({'f':0,'m':1})\n",
    "test_df['recruitment_channel']=test_df['recruitment_channel'].map({'sourcing':0, 'other':1})"
   ]
  },
  {
   "cell_type": "code",
   "execution_count": 15,
   "metadata": {},
   "outputs": [
    {
     "name": "stdout",
     "output_type": "stream",
     "text": [
      "<class 'pandas.core.frame.DataFrame'>\n",
      "RangeIndex: 54808 entries, 0 to 54807\n",
      "Data columns (total 14 columns):\n",
      " #   Column                Non-Null Count  Dtype  \n",
      "---  ------                --------------  -----  \n",
      " 0   employee_id           54808 non-null  int64  \n",
      " 1   department            54808 non-null  object \n",
      " 2   region                54808 non-null  object \n",
      " 3   education             52399 non-null  object \n",
      " 4   gender                54808 non-null  int64  \n",
      " 5   recruitment_channel   53666 non-null  float64\n",
      " 6   no_of_trainings       54808 non-null  int64  \n",
      " 7   age                   54808 non-null  int64  \n",
      " 8   previous_year_rating  54808 non-null  float64\n",
      " 9   length_of_service     54808 non-null  int64  \n",
      " 10  KPIs_met >80%         54808 non-null  int64  \n",
      " 11  awards_won?           54808 non-null  int64  \n",
      " 12  avg_training_score    54808 non-null  int64  \n",
      " 13  is_promoted           54808 non-null  int64  \n",
      "dtypes: float64(2), int64(9), object(3)\n",
      "memory usage: 5.9+ MB\n"
     ]
    }
   ],
   "source": [
    "train_df.info()"
   ]
  },
  {
   "cell_type": "code",
   "execution_count": 16,
   "metadata": {},
   "outputs": [
    {
     "name": "stdout",
     "output_type": "stream",
     "text": [
      "<class 'pandas.core.frame.DataFrame'>\n",
      "RangeIndex: 23490 entries, 0 to 23489\n",
      "Data columns (total 13 columns):\n",
      " #   Column                Non-Null Count  Dtype  \n",
      "---  ------                --------------  -----  \n",
      " 0   employee_id           23490 non-null  int64  \n",
      " 1   department            23490 non-null  object \n",
      " 2   region                23490 non-null  object \n",
      " 3   education             22456 non-null  object \n",
      " 4   gender                23490 non-null  int64  \n",
      " 5   recruitment_channel   23039 non-null  float64\n",
      " 6   no_of_trainings       23490 non-null  int64  \n",
      " 7   age                   23490 non-null  int64  \n",
      " 8   previous_year_rating  23490 non-null  float64\n",
      " 9   length_of_service     23490 non-null  int64  \n",
      " 10  KPIs_met >80%         23490 non-null  int64  \n",
      " 11  awards_won?           23490 non-null  int64  \n",
      " 12  avg_training_score    23490 non-null  int64  \n",
      "dtypes: float64(2), int64(8), object(3)\n",
      "memory usage: 2.3+ MB\n"
     ]
    }
   ],
   "source": [
    "test_df.info() # Also checking if any values are missing in the test set, we see education, recruitment_channel as remaining ones."
   ]
  },
  {
   "cell_type": "code",
   "execution_count": 17,
   "metadata": {},
   "outputs": [
    {
     "data": {
      "text/plain": [
       "1.0    30446\n",
       "0.0    23220\n",
       "Name: recruitment_channel, dtype: int64"
      ]
     },
     "execution_count": 17,
     "metadata": {},
     "output_type": "execute_result"
    }
   ],
   "source": [
    "train_df['recruitment_channel'].value_counts()"
   ]
  },
  {
   "cell_type": "code",
   "execution_count": 18,
   "metadata": {},
   "outputs": [],
   "source": [
    "#Filling the missing values by means of mode.\n",
    "train_df['recruitment_channel']=train_df['recruitment_channel'].fillna(train_df['recruitment_channel'].mode()[0])\n",
    "train_df['education']=train_df['education'].fillna(train_df['education'].mode()[0])\n",
    "test_df['recruitment_channel']=test_df['recruitment_channel'].fillna(test_df['recruitment_channel'].mode()[0])\n",
    "test_df['education']=test_df['education'].fillna(test_df['education'].mode()[0])"
   ]
  },
  {
   "cell_type": "code",
   "execution_count": 19,
   "metadata": {},
   "outputs": [
    {
     "data": {
      "text/plain": [
       "employee_id             False\n",
       "department              False\n",
       "region                  False\n",
       "education               False\n",
       "gender                  False\n",
       "recruitment_channel     False\n",
       "no_of_trainings         False\n",
       "age                     False\n",
       "previous_year_rating    False\n",
       "length_of_service       False\n",
       "KPIs_met >80%           False\n",
       "awards_won?             False\n",
       "avg_training_score      False\n",
       "is_promoted             False\n",
       "dtype: bool"
      ]
     },
     "execution_count": 19,
     "metadata": {},
     "output_type": "execute_result"
    }
   ],
   "source": [
    "train_df.isnull().any()"
   ]
  },
  {
   "cell_type": "code",
   "execution_count": 20,
   "metadata": {},
   "outputs": [
    {
     "data": {
      "text/plain": [
       "employee_id             False\n",
       "department              False\n",
       "region                  False\n",
       "education               False\n",
       "gender                  False\n",
       "recruitment_channel     False\n",
       "no_of_trainings         False\n",
       "age                     False\n",
       "previous_year_rating    False\n",
       "length_of_service       False\n",
       "KPIs_met >80%           False\n",
       "awards_won?             False\n",
       "avg_training_score      False\n",
       "dtype: bool"
      ]
     },
     "execution_count": 20,
     "metadata": {},
     "output_type": "execute_result"
    }
   ],
   "source": [
    "test_df.isnull().any()"
   ]
  },
  {
   "cell_type": "code",
   "execution_count": 21,
   "metadata": {},
   "outputs": [
    {
     "data": {
      "text/html": [
       "<div>\n",
       "<style scoped>\n",
       "    .dataframe tbody tr th:only-of-type {\n",
       "        vertical-align: middle;\n",
       "    }\n",
       "\n",
       "    .dataframe tbody tr th {\n",
       "        vertical-align: top;\n",
       "    }\n",
       "\n",
       "    .dataframe thead th {\n",
       "        text-align: right;\n",
       "    }\n",
       "</style>\n",
       "<table border=\"1\" class=\"dataframe\">\n",
       "  <thead>\n",
       "    <tr style=\"text-align: right;\">\n",
       "      <th></th>\n",
       "      <th>employee_id</th>\n",
       "      <th>department</th>\n",
       "      <th>region</th>\n",
       "      <th>education</th>\n",
       "      <th>gender</th>\n",
       "      <th>recruitment_channel</th>\n",
       "      <th>no_of_trainings</th>\n",
       "      <th>age</th>\n",
       "      <th>previous_year_rating</th>\n",
       "      <th>length_of_service</th>\n",
       "      <th>KPIs_met &gt;80%</th>\n",
       "      <th>awards_won?</th>\n",
       "      <th>avg_training_score</th>\n",
       "      <th>is_promoted</th>\n",
       "    </tr>\n",
       "  </thead>\n",
       "  <tbody>\n",
       "    <tr>\n",
       "      <th>0</th>\n",
       "      <td>65438</td>\n",
       "      <td>Budget</td>\n",
       "      <td>region_7</td>\n",
       "      <td>Master's &amp; above</td>\n",
       "      <td>0</td>\n",
       "      <td>0.0</td>\n",
       "      <td>1</td>\n",
       "      <td>35</td>\n",
       "      <td>5.0</td>\n",
       "      <td>8</td>\n",
       "      <td>1</td>\n",
       "      <td>0</td>\n",
       "      <td>49</td>\n",
       "      <td>0</td>\n",
       "    </tr>\n",
       "    <tr>\n",
       "      <th>1</th>\n",
       "      <td>65141</td>\n",
       "      <td>Execution</td>\n",
       "      <td>region_22</td>\n",
       "      <td>Bachelor's</td>\n",
       "      <td>1</td>\n",
       "      <td>1.0</td>\n",
       "      <td>1</td>\n",
       "      <td>30</td>\n",
       "      <td>5.0</td>\n",
       "      <td>4</td>\n",
       "      <td>0</td>\n",
       "      <td>0</td>\n",
       "      <td>60</td>\n",
       "      <td>0</td>\n",
       "    </tr>\n",
       "    <tr>\n",
       "      <th>2</th>\n",
       "      <td>7513</td>\n",
       "      <td>Budget</td>\n",
       "      <td>region_19</td>\n",
       "      <td>Bachelor's</td>\n",
       "      <td>1</td>\n",
       "      <td>0.0</td>\n",
       "      <td>1</td>\n",
       "      <td>34</td>\n",
       "      <td>3.0</td>\n",
       "      <td>7</td>\n",
       "      <td>0</td>\n",
       "      <td>0</td>\n",
       "      <td>50</td>\n",
       "      <td>0</td>\n",
       "    </tr>\n",
       "    <tr>\n",
       "      <th>3</th>\n",
       "      <td>2542</td>\n",
       "      <td>Budget</td>\n",
       "      <td>region_23</td>\n",
       "      <td>Bachelor's</td>\n",
       "      <td>1</td>\n",
       "      <td>1.0</td>\n",
       "      <td>2</td>\n",
       "      <td>39</td>\n",
       "      <td>1.0</td>\n",
       "      <td>10</td>\n",
       "      <td>0</td>\n",
       "      <td>0</td>\n",
       "      <td>50</td>\n",
       "      <td>0</td>\n",
       "    </tr>\n",
       "    <tr>\n",
       "      <th>4</th>\n",
       "      <td>48945</td>\n",
       "      <td>IT</td>\n",
       "      <td>region_26</td>\n",
       "      <td>Bachelor's</td>\n",
       "      <td>1</td>\n",
       "      <td>1.0</td>\n",
       "      <td>1</td>\n",
       "      <td>45</td>\n",
       "      <td>3.0</td>\n",
       "      <td>2</td>\n",
       "      <td>0</td>\n",
       "      <td>0</td>\n",
       "      <td>73</td>\n",
       "      <td>0</td>\n",
       "    </tr>\n",
       "  </tbody>\n",
       "</table>\n",
       "</div>"
      ],
      "text/plain": [
       "   employee_id department     region         education  gender  \\\n",
       "0        65438     Budget   region_7  Master's & above       0   \n",
       "1        65141  Execution  region_22        Bachelor's       1   \n",
       "2         7513     Budget  region_19        Bachelor's       1   \n",
       "3         2542     Budget  region_23        Bachelor's       1   \n",
       "4        48945         IT  region_26        Bachelor's       1   \n",
       "\n",
       "   recruitment_channel  no_of_trainings  age  previous_year_rating  \\\n",
       "0                  0.0                1   35                   5.0   \n",
       "1                  1.0                1   30                   5.0   \n",
       "2                  0.0                1   34                   3.0   \n",
       "3                  1.0                2   39                   1.0   \n",
       "4                  1.0                1   45                   3.0   \n",
       "\n",
       "   length_of_service  KPIs_met >80%  awards_won?  avg_training_score  \\\n",
       "0                  8              1            0                  49   \n",
       "1                  4              0            0                  60   \n",
       "2                  7              0            0                  50   \n",
       "3                 10              0            0                  50   \n",
       "4                  2              0            0                  73   \n",
       "\n",
       "   is_promoted  \n",
       "0            0  \n",
       "1            0  \n",
       "2            0  \n",
       "3            0  \n",
       "4            0  "
      ]
     },
     "execution_count": 21,
     "metadata": {},
     "output_type": "execute_result"
    }
   ],
   "source": [
    "train_df.head()"
   ]
  },
  {
   "cell_type": "code",
   "execution_count": 22,
   "metadata": {},
   "outputs": [],
   "source": [
    "#Converting categorical value to numeric values.\n",
    "train_df['department']=train_df['department'].map({'Budget':0,\n",
    "'Execution':1,\n",
    "'IT':2,\n",
    "'Others':3})\n",
    "train_df['education']=train_df['education'].map({\"Bachelor's\":0,\n",
    "\"Master's & above\":1,\n",
    "\"Below Secondary\":2}) \n",
    "test_df['department']=test_df['department'].map({'Budget':0,\n",
    "'Execution':1,\n",
    "'IT':2,\n",
    "'Others':3})\n",
    "test_df['education']=test_df['education'].map({\"Bachelor's\":0,\n",
    "\"Master's & above\":1,\n",
    "\"Below Secondary\":2}) "
   ]
  },
  {
   "cell_type": "code",
   "execution_count": 23,
   "metadata": {},
   "outputs": [
    {
     "data": {
      "text/plain": [
       "employee_id             False\n",
       "department              False\n",
       "region                  False\n",
       "education               False\n",
       "gender                  False\n",
       "recruitment_channel     False\n",
       "no_of_trainings         False\n",
       "age                     False\n",
       "previous_year_rating    False\n",
       "length_of_service       False\n",
       "KPIs_met >80%           False\n",
       "awards_won?             False\n",
       "avg_training_score      False\n",
       "is_promoted             False\n",
       "dtype: bool"
      ]
     },
     "execution_count": 23,
     "metadata": {},
     "output_type": "execute_result"
    }
   ],
   "source": [
    "train_df.isnull().any()"
   ]
  },
  {
   "cell_type": "code",
   "execution_count": 24,
   "metadata": {},
   "outputs": [
    {
     "data": {
      "text/plain": [
       "employee_id             False\n",
       "department              False\n",
       "region                  False\n",
       "education               False\n",
       "gender                  False\n",
       "recruitment_channel     False\n",
       "no_of_trainings         False\n",
       "age                     False\n",
       "previous_year_rating    False\n",
       "length_of_service       False\n",
       "KPIs_met >80%           False\n",
       "awards_won?             False\n",
       "avg_training_score      False\n",
       "dtype: bool"
      ]
     },
     "execution_count": 24,
     "metadata": {},
     "output_type": "execute_result"
    }
   ],
   "source": [
    "test_df.isnull().any()"
   ]
  },
  {
   "cell_type": "code",
   "execution_count": 25,
   "metadata": {},
   "outputs": [
    {
     "data": {
      "text/html": [
       "<div>\n",
       "<style scoped>\n",
       "    .dataframe tbody tr th:only-of-type {\n",
       "        vertical-align: middle;\n",
       "    }\n",
       "\n",
       "    .dataframe tbody tr th {\n",
       "        vertical-align: top;\n",
       "    }\n",
       "\n",
       "    .dataframe thead th {\n",
       "        text-align: right;\n",
       "    }\n",
       "</style>\n",
       "<table border=\"1\" class=\"dataframe\">\n",
       "  <thead>\n",
       "    <tr style=\"text-align: right;\">\n",
       "      <th></th>\n",
       "      <th>employee_id</th>\n",
       "      <th>department</th>\n",
       "      <th>region</th>\n",
       "      <th>education</th>\n",
       "      <th>gender</th>\n",
       "      <th>recruitment_channel</th>\n",
       "      <th>no_of_trainings</th>\n",
       "      <th>age</th>\n",
       "      <th>previous_year_rating</th>\n",
       "      <th>length_of_service</th>\n",
       "      <th>KPIs_met &gt;80%</th>\n",
       "      <th>awards_won?</th>\n",
       "      <th>avg_training_score</th>\n",
       "      <th>is_promoted</th>\n",
       "    </tr>\n",
       "  </thead>\n",
       "  <tbody>\n",
       "    <tr>\n",
       "      <th>0</th>\n",
       "      <td>65438</td>\n",
       "      <td>0</td>\n",
       "      <td>region_7</td>\n",
       "      <td>1</td>\n",
       "      <td>0</td>\n",
       "      <td>0.0</td>\n",
       "      <td>1</td>\n",
       "      <td>35</td>\n",
       "      <td>5.0</td>\n",
       "      <td>8</td>\n",
       "      <td>1</td>\n",
       "      <td>0</td>\n",
       "      <td>49</td>\n",
       "      <td>0</td>\n",
       "    </tr>\n",
       "    <tr>\n",
       "      <th>1</th>\n",
       "      <td>65141</td>\n",
       "      <td>1</td>\n",
       "      <td>region_22</td>\n",
       "      <td>0</td>\n",
       "      <td>1</td>\n",
       "      <td>1.0</td>\n",
       "      <td>1</td>\n",
       "      <td>30</td>\n",
       "      <td>5.0</td>\n",
       "      <td>4</td>\n",
       "      <td>0</td>\n",
       "      <td>0</td>\n",
       "      <td>60</td>\n",
       "      <td>0</td>\n",
       "    </tr>\n",
       "    <tr>\n",
       "      <th>2</th>\n",
       "      <td>7513</td>\n",
       "      <td>0</td>\n",
       "      <td>region_19</td>\n",
       "      <td>0</td>\n",
       "      <td>1</td>\n",
       "      <td>0.0</td>\n",
       "      <td>1</td>\n",
       "      <td>34</td>\n",
       "      <td>3.0</td>\n",
       "      <td>7</td>\n",
       "      <td>0</td>\n",
       "      <td>0</td>\n",
       "      <td>50</td>\n",
       "      <td>0</td>\n",
       "    </tr>\n",
       "    <tr>\n",
       "      <th>3</th>\n",
       "      <td>2542</td>\n",
       "      <td>0</td>\n",
       "      <td>region_23</td>\n",
       "      <td>0</td>\n",
       "      <td>1</td>\n",
       "      <td>1.0</td>\n",
       "      <td>2</td>\n",
       "      <td>39</td>\n",
       "      <td>1.0</td>\n",
       "      <td>10</td>\n",
       "      <td>0</td>\n",
       "      <td>0</td>\n",
       "      <td>50</td>\n",
       "      <td>0</td>\n",
       "    </tr>\n",
       "    <tr>\n",
       "      <th>4</th>\n",
       "      <td>48945</td>\n",
       "      <td>2</td>\n",
       "      <td>region_26</td>\n",
       "      <td>0</td>\n",
       "      <td>1</td>\n",
       "      <td>1.0</td>\n",
       "      <td>1</td>\n",
       "      <td>45</td>\n",
       "      <td>3.0</td>\n",
       "      <td>2</td>\n",
       "      <td>0</td>\n",
       "      <td>0</td>\n",
       "      <td>73</td>\n",
       "      <td>0</td>\n",
       "    </tr>\n",
       "  </tbody>\n",
       "</table>\n",
       "</div>"
      ],
      "text/plain": [
       "   employee_id  department     region  education  gender  recruitment_channel  \\\n",
       "0        65438           0   region_7          1       0                  0.0   \n",
       "1        65141           1  region_22          0       1                  1.0   \n",
       "2         7513           0  region_19          0       1                  0.0   \n",
       "3         2542           0  region_23          0       1                  1.0   \n",
       "4        48945           2  region_26          0       1                  1.0   \n",
       "\n",
       "   no_of_trainings  age  previous_year_rating  length_of_service  \\\n",
       "0                1   35                   5.0                  8   \n",
       "1                1   30                   5.0                  4   \n",
       "2                1   34                   3.0                  7   \n",
       "3                2   39                   1.0                 10   \n",
       "4                1   45                   3.0                  2   \n",
       "\n",
       "   KPIs_met >80%  awards_won?  avg_training_score  is_promoted  \n",
       "0              1            0                  49            0  \n",
       "1              0            0                  60            0  \n",
       "2              0            0                  50            0  \n",
       "3              0            0                  50            0  \n",
       "4              0            0                  73            0  "
      ]
     },
     "execution_count": 25,
     "metadata": {},
     "output_type": "execute_result"
    }
   ],
   "source": [
    "train_df.head()"
   ]
  },
  {
   "cell_type": "code",
   "execution_count": 26,
   "metadata": {},
   "outputs": [],
   "source": [
    "# We have a range of age, we intent to categorize them by the below technique\n",
    "#Age bar stands for 0-20:0, 20-30:1 and so on..\n",
    "bins = [0,20,30,40,60]\n",
    "labels = [0,1,2,3]\n",
    "train_df['new_age_updated_new'] = pd.cut(train_df['age'], bins=bins, labels=labels)"
   ]
  },
  {
   "cell_type": "code",
   "execution_count": 27,
   "metadata": {},
   "outputs": [
    {
     "data": {
      "text/plain": [
       "2    26028\n",
       "1    18005\n",
       "3    10662\n",
       "0      113\n",
       "Name: new_age_updated_new, dtype: int64"
      ]
     },
     "execution_count": 27,
     "metadata": {},
     "output_type": "execute_result"
    }
   ],
   "source": [
    "train_df['new_age_updated_new'].value_counts()"
   ]
  },
  {
   "cell_type": "code",
   "execution_count": 28,
   "metadata": {},
   "outputs": [],
   "source": [
    "bins = [0,20,30,40,60]\n",
    "labels = [0,1,2,3]\n",
    "test_df['new_age_updated_new'] = pd.cut(test_df['age'], bins=bins, labels=labels)"
   ]
  },
  {
   "cell_type": "code",
   "execution_count": 29,
   "metadata": {},
   "outputs": [],
   "source": [
    "#Feature engineering employee acheivement as combined score of KPI's and awards won\n",
    "train_df['Employee_Acheivement']=train_df['KPIs_met >80%'] + train_df['awards_won?']\n",
    "test_df['Employee_Acheivement']=test_df['KPIs_met >80%'] + test_df['awards_won?']"
   ]
  },
  {
   "cell_type": "code",
   "execution_count": 30,
   "metadata": {},
   "outputs": [],
   "source": [
    "#Feature engineering training credits as combined score of average training score and no of trainings.\n",
    "train_df['new_age_updated_new']=train_df['new_age_updated_new'].astype(int)\n",
    "test_df['new_age_updated_new']=test_df['new_age_updated_new'].astype(int)\n",
    "train_df=train_df.drop(['age'], axis=1)\n",
    "test_df=test_df.drop(['age'],axis=1)\n",
    "train_df['training_credits']=train_df['avg_training_score'] * train_df['no_of_trainings']\n",
    "test_df['training_credits']=test_df['avg_training_score'] * test_df['no_of_trainings']"
   ]
  },
  {
   "cell_type": "code",
   "execution_count": 31,
   "metadata": {},
   "outputs": [
    {
     "data": {
      "text/plain": [
       "<AxesSubplot:>"
      ]
     },
     "execution_count": 31,
     "metadata": {},
     "output_type": "execute_result"
    },
    {
     "data": {
      "image/png": "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\n",
      "text/plain": [
       "<Figure size 1440x720 with 2 Axes>"
      ]
     },
     "metadata": {
      "needs_background": "light"
     },
     "output_type": "display_data"
    }
   ],
   "source": [
    "plt.figure(figsize=(20,10))\n",
    "sns.heatmap(train_df.corr(), annot=True, cmap='RdYlGn')"
   ]
  },
  {
   "cell_type": "code",
   "execution_count": 32,
   "metadata": {},
   "outputs": [
    {
     "data": {
      "text/html": [
       "<div>\n",
       "<style scoped>\n",
       "    .dataframe tbody tr th:only-of-type {\n",
       "        vertical-align: middle;\n",
       "    }\n",
       "\n",
       "    .dataframe tbody tr th {\n",
       "        vertical-align: top;\n",
       "    }\n",
       "\n",
       "    .dataframe thead th {\n",
       "        text-align: right;\n",
       "    }\n",
       "</style>\n",
       "<table border=\"1\" class=\"dataframe\">\n",
       "  <thead>\n",
       "    <tr style=\"text-align: right;\">\n",
       "      <th></th>\n",
       "      <th>employee_id</th>\n",
       "      <th>department</th>\n",
       "      <th>region</th>\n",
       "      <th>education</th>\n",
       "      <th>gender</th>\n",
       "      <th>recruitment_channel</th>\n",
       "      <th>no_of_trainings</th>\n",
       "      <th>previous_year_rating</th>\n",
       "      <th>length_of_service</th>\n",
       "      <th>KPIs_met &gt;80%</th>\n",
       "      <th>awards_won?</th>\n",
       "      <th>avg_training_score</th>\n",
       "      <th>is_promoted</th>\n",
       "      <th>new_age_updated_new</th>\n",
       "      <th>Employee_Acheivement</th>\n",
       "      <th>training_credits</th>\n",
       "    </tr>\n",
       "  </thead>\n",
       "  <tbody>\n",
       "    <tr>\n",
       "      <th>0</th>\n",
       "      <td>65438</td>\n",
       "      <td>0</td>\n",
       "      <td>region_7</td>\n",
       "      <td>1</td>\n",
       "      <td>0</td>\n",
       "      <td>0.0</td>\n",
       "      <td>1</td>\n",
       "      <td>5.0</td>\n",
       "      <td>8</td>\n",
       "      <td>1</td>\n",
       "      <td>0</td>\n",
       "      <td>49</td>\n",
       "      <td>0</td>\n",
       "      <td>2</td>\n",
       "      <td>1</td>\n",
       "      <td>49</td>\n",
       "    </tr>\n",
       "    <tr>\n",
       "      <th>1</th>\n",
       "      <td>65141</td>\n",
       "      <td>1</td>\n",
       "      <td>region_22</td>\n",
       "      <td>0</td>\n",
       "      <td>1</td>\n",
       "      <td>1.0</td>\n",
       "      <td>1</td>\n",
       "      <td>5.0</td>\n",
       "      <td>4</td>\n",
       "      <td>0</td>\n",
       "      <td>0</td>\n",
       "      <td>60</td>\n",
       "      <td>0</td>\n",
       "      <td>1</td>\n",
       "      <td>0</td>\n",
       "      <td>60</td>\n",
       "    </tr>\n",
       "    <tr>\n",
       "      <th>2</th>\n",
       "      <td>7513</td>\n",
       "      <td>0</td>\n",
       "      <td>region_19</td>\n",
       "      <td>0</td>\n",
       "      <td>1</td>\n",
       "      <td>0.0</td>\n",
       "      <td>1</td>\n",
       "      <td>3.0</td>\n",
       "      <td>7</td>\n",
       "      <td>0</td>\n",
       "      <td>0</td>\n",
       "      <td>50</td>\n",
       "      <td>0</td>\n",
       "      <td>2</td>\n",
       "      <td>0</td>\n",
       "      <td>50</td>\n",
       "    </tr>\n",
       "    <tr>\n",
       "      <th>3</th>\n",
       "      <td>2542</td>\n",
       "      <td>0</td>\n",
       "      <td>region_23</td>\n",
       "      <td>0</td>\n",
       "      <td>1</td>\n",
       "      <td>1.0</td>\n",
       "      <td>2</td>\n",
       "      <td>1.0</td>\n",
       "      <td>10</td>\n",
       "      <td>0</td>\n",
       "      <td>0</td>\n",
       "      <td>50</td>\n",
       "      <td>0</td>\n",
       "      <td>2</td>\n",
       "      <td>0</td>\n",
       "      <td>100</td>\n",
       "    </tr>\n",
       "    <tr>\n",
       "      <th>4</th>\n",
       "      <td>48945</td>\n",
       "      <td>2</td>\n",
       "      <td>region_26</td>\n",
       "      <td>0</td>\n",
       "      <td>1</td>\n",
       "      <td>1.0</td>\n",
       "      <td>1</td>\n",
       "      <td>3.0</td>\n",
       "      <td>2</td>\n",
       "      <td>0</td>\n",
       "      <td>0</td>\n",
       "      <td>73</td>\n",
       "      <td>0</td>\n",
       "      <td>3</td>\n",
       "      <td>0</td>\n",
       "      <td>73</td>\n",
       "    </tr>\n",
       "  </tbody>\n",
       "</table>\n",
       "</div>"
      ],
      "text/plain": [
       "   employee_id  department     region  education  gender  recruitment_channel  \\\n",
       "0        65438           0   region_7          1       0                  0.0   \n",
       "1        65141           1  region_22          0       1                  1.0   \n",
       "2         7513           0  region_19          0       1                  0.0   \n",
       "3         2542           0  region_23          0       1                  1.0   \n",
       "4        48945           2  region_26          0       1                  1.0   \n",
       "\n",
       "   no_of_trainings  previous_year_rating  length_of_service  KPIs_met >80%  \\\n",
       "0                1                   5.0                  8              1   \n",
       "1                1                   5.0                  4              0   \n",
       "2                1                   3.0                  7              0   \n",
       "3                2                   1.0                 10              0   \n",
       "4                1                   3.0                  2              0   \n",
       "\n",
       "   awards_won?  avg_training_score  is_promoted  new_age_updated_new  \\\n",
       "0            0                  49            0                    2   \n",
       "1            0                  60            0                    1   \n",
       "2            0                  50            0                    2   \n",
       "3            0                  50            0                    2   \n",
       "4            0                  73            0                    3   \n",
       "\n",
       "   Employee_Acheivement  training_credits  \n",
       "0                     1                49  \n",
       "1                     0                60  \n",
       "2                     0                50  \n",
       "3                     0               100  \n",
       "4                     0                73  "
      ]
     },
     "execution_count": 32,
     "metadata": {},
     "output_type": "execute_result"
    }
   ],
   "source": [
    "train_df.head()"
   ]
  },
  {
   "cell_type": "code",
   "execution_count": 33,
   "metadata": {},
   "outputs": [],
   "source": [
    "train_df['training_credits']=train_df['training_credits'].astype(int)\n",
    "test_df['training_credits']=test_df['training_credits'].astype(int)"
   ]
  },
  {
   "cell_type": "code",
   "execution_count": 34,
   "metadata": {},
   "outputs": [],
   "source": [
    "from sklearn.preprocessing import MinMaxScaler\n",
    "scaler = MinMaxScaler()\n",
    "train_df['training_credits']= scaler.fit_transform(train_df[['training_credits']].values)\n",
    "test_df['training_credits']= scaler.fit_transform(test_df[['training_credits']].values)\n",
    "X=train_df[['department','education','Employee_Acheivement' ,'training_credits','new_age_updated_new']]\n",
    "y=train_df['is_promoted']\n",
    "from sklearn.model_selection import train_test_split\n",
    "X_train, X_test, y_train, y_test = train_test_split(X,y, test_size = 0.2)"
   ]
  },
  {
   "cell_type": "code",
   "execution_count": 35,
   "metadata": {},
   "outputs": [
    {
     "data": {
      "text/html": [
       "<div>\n",
       "<style scoped>\n",
       "    .dataframe tbody tr th:only-of-type {\n",
       "        vertical-align: middle;\n",
       "    }\n",
       "\n",
       "    .dataframe tbody tr th {\n",
       "        vertical-align: top;\n",
       "    }\n",
       "\n",
       "    .dataframe thead th {\n",
       "        text-align: right;\n",
       "    }\n",
       "</style>\n",
       "<table border=\"1\" class=\"dataframe\">\n",
       "  <thead>\n",
       "    <tr style=\"text-align: right;\">\n",
       "      <th></th>\n",
       "      <th>department</th>\n",
       "      <th>education</th>\n",
       "      <th>Employee_Acheivement</th>\n",
       "      <th>training_credits</th>\n",
       "      <th>new_age_updated_new</th>\n",
       "    </tr>\n",
       "  </thead>\n",
       "  <tbody>\n",
       "    <tr>\n",
       "      <th>0</th>\n",
       "      <td>0</td>\n",
       "      <td>1</td>\n",
       "      <td>1</td>\n",
       "      <td>0.014903</td>\n",
       "      <td>2</td>\n",
       "    </tr>\n",
       "    <tr>\n",
       "      <th>1</th>\n",
       "      <td>1</td>\n",
       "      <td>0</td>\n",
       "      <td>0</td>\n",
       "      <td>0.031297</td>\n",
       "      <td>1</td>\n",
       "    </tr>\n",
       "    <tr>\n",
       "      <th>2</th>\n",
       "      <td>0</td>\n",
       "      <td>0</td>\n",
       "      <td>0</td>\n",
       "      <td>0.016393</td>\n",
       "      <td>2</td>\n",
       "    </tr>\n",
       "    <tr>\n",
       "      <th>3</th>\n",
       "      <td>0</td>\n",
       "      <td>0</td>\n",
       "      <td>0</td>\n",
       "      <td>0.090909</td>\n",
       "      <td>2</td>\n",
       "    </tr>\n",
       "    <tr>\n",
       "      <th>4</th>\n",
       "      <td>2</td>\n",
       "      <td>0</td>\n",
       "      <td>0</td>\n",
       "      <td>0.050671</td>\n",
       "      <td>3</td>\n",
       "    </tr>\n",
       "    <tr>\n",
       "      <th>...</th>\n",
       "      <td>...</td>\n",
       "      <td>...</td>\n",
       "      <td>...</td>\n",
       "      <td>...</td>\n",
       "      <td>...</td>\n",
       "    </tr>\n",
       "    <tr>\n",
       "      <th>54803</th>\n",
       "      <td>2</td>\n",
       "      <td>0</td>\n",
       "      <td>0</td>\n",
       "      <td>0.058122</td>\n",
       "      <td>3</td>\n",
       "    </tr>\n",
       "    <tr>\n",
       "      <th>54804</th>\n",
       "      <td>1</td>\n",
       "      <td>1</td>\n",
       "      <td>0</td>\n",
       "      <td>0.025335</td>\n",
       "      <td>2</td>\n",
       "    </tr>\n",
       "    <tr>\n",
       "      <th>54805</th>\n",
       "      <td>2</td>\n",
       "      <td>0</td>\n",
       "      <td>1</td>\n",
       "      <td>0.059613</td>\n",
       "      <td>1</td>\n",
       "    </tr>\n",
       "    <tr>\n",
       "      <th>54806</th>\n",
       "      <td>0</td>\n",
       "      <td>0</td>\n",
       "      <td>0</td>\n",
       "      <td>0.008942</td>\n",
       "      <td>1</td>\n",
       "    </tr>\n",
       "    <tr>\n",
       "      <th>54807</th>\n",
       "      <td>3</td>\n",
       "      <td>0</td>\n",
       "      <td>0</td>\n",
       "      <td>0.014903</td>\n",
       "      <td>1</td>\n",
       "    </tr>\n",
       "  </tbody>\n",
       "</table>\n",
       "<p>54808 rows × 5 columns</p>\n",
       "</div>"
      ],
      "text/plain": [
       "       department  education  Employee_Acheivement  training_credits  \\\n",
       "0               0          1                     1          0.014903   \n",
       "1               1          0                     0          0.031297   \n",
       "2               0          0                     0          0.016393   \n",
       "3               0          0                     0          0.090909   \n",
       "4               2          0                     0          0.050671   \n",
       "...           ...        ...                   ...               ...   \n",
       "54803           2          0                     0          0.058122   \n",
       "54804           1          1                     0          0.025335   \n",
       "54805           2          0                     1          0.059613   \n",
       "54806           0          0                     0          0.008942   \n",
       "54807           3          0                     0          0.014903   \n",
       "\n",
       "       new_age_updated_new  \n",
       "0                        2  \n",
       "1                        1  \n",
       "2                        2  \n",
       "3                        2  \n",
       "4                        3  \n",
       "...                    ...  \n",
       "54803                    3  \n",
       "54804                    2  \n",
       "54805                    1  \n",
       "54806                    1  \n",
       "54807                    1  \n",
       "\n",
       "[54808 rows x 5 columns]"
      ]
     },
     "execution_count": 35,
     "metadata": {},
     "output_type": "execute_result"
    }
   ],
   "source": [
    "X"
   ]
  },
  {
   "cell_type": "markdown",
   "metadata": {},
   "source": [
    "### Model Training"
   ]
  },
  {
   "cell_type": "code",
   "execution_count": 36,
   "metadata": {},
   "outputs": [],
   "source": [
    "## Hyper Parameter Optimization\n",
    "\n",
    "params={\n",
    " \"learning_rate\"    : [0.05, 0.10, 0.15, 0.20, 0.25, 0.30 ] ,\n",
    " \"max_depth\"        : [ 3, 4, 5, 6, 8, 10, 12, 15],\n",
    " \"min_child_weight\" : [ 1, 3, 5, 7 ],\n",
    " \"gamma\"            : [ 0.0, 0.1, 0.2 , 0.3, 0.4 ],\n",
    " \"colsample_bytree\" : [ 0.3, 0.4, 0.5 , 0.7 ]\n",
    "    \n",
    "}\n",
    "from sklearn.model_selection import RandomizedSearchCV, GridSearchCV\n",
    "import xgboost"
   ]
  },
  {
   "cell_type": "code",
   "execution_count": 37,
   "metadata": {},
   "outputs": [],
   "source": [
    "#Checking time taken by the system to run the model\n",
    "def timer(start_time=None):\n",
    "    if not start_time:\n",
    "        start_time = datetime.now()\n",
    "        return start_time\n",
    "    elif start_time:\n",
    "        thour, temp_sec = divmod((datetime.now() - start_time).total_seconds(), 3600)\n",
    "        tmin, tsec = divmod(temp_sec, 60)\n",
    "        print('\\n Time taken: %i hours %i minutes and %s seconds.' % (thour, tmin, round(tsec, 2)))"
   ]
  },
  {
   "cell_type": "code",
   "execution_count": 38,
   "metadata": {},
   "outputs": [],
   "source": [
    "classifier=xgboost.XGBClassifier()\n",
    "\n",
    "random_search=RandomizedSearchCV(classifier,param_distributions=params,n_iter=5,scoring='roc_auc',n_jobs=-1,cv=5,verbose=3)"
   ]
  },
  {
   "cell_type": "code",
   "execution_count": 39,
   "metadata": {},
   "outputs": [
    {
     "data": {
      "text/html": [
       "<div>\n",
       "<style scoped>\n",
       "    .dataframe tbody tr th:only-of-type {\n",
       "        vertical-align: middle;\n",
       "    }\n",
       "\n",
       "    .dataframe tbody tr th {\n",
       "        vertical-align: top;\n",
       "    }\n",
       "\n",
       "    .dataframe thead th {\n",
       "        text-align: right;\n",
       "    }\n",
       "</style>\n",
       "<table border=\"1\" class=\"dataframe\">\n",
       "  <thead>\n",
       "    <tr style=\"text-align: right;\">\n",
       "      <th></th>\n",
       "      <th>department</th>\n",
       "      <th>education</th>\n",
       "      <th>Employee_Acheivement</th>\n",
       "      <th>training_credits</th>\n",
       "      <th>new_age_updated_new</th>\n",
       "    </tr>\n",
       "  </thead>\n",
       "  <tbody>\n",
       "    <tr>\n",
       "      <th>0</th>\n",
       "      <td>0</td>\n",
       "      <td>1</td>\n",
       "      <td>1</td>\n",
       "      <td>0.014903</td>\n",
       "      <td>2</td>\n",
       "    </tr>\n",
       "    <tr>\n",
       "      <th>1</th>\n",
       "      <td>1</td>\n",
       "      <td>0</td>\n",
       "      <td>0</td>\n",
       "      <td>0.031297</td>\n",
       "      <td>1</td>\n",
       "    </tr>\n",
       "    <tr>\n",
       "      <th>2</th>\n",
       "      <td>0</td>\n",
       "      <td>0</td>\n",
       "      <td>0</td>\n",
       "      <td>0.016393</td>\n",
       "      <td>2</td>\n",
       "    </tr>\n",
       "    <tr>\n",
       "      <th>3</th>\n",
       "      <td>0</td>\n",
       "      <td>0</td>\n",
       "      <td>0</td>\n",
       "      <td>0.090909</td>\n",
       "      <td>2</td>\n",
       "    </tr>\n",
       "    <tr>\n",
       "      <th>4</th>\n",
       "      <td>2</td>\n",
       "      <td>0</td>\n",
       "      <td>0</td>\n",
       "      <td>0.050671</td>\n",
       "      <td>3</td>\n",
       "    </tr>\n",
       "    <tr>\n",
       "      <th>...</th>\n",
       "      <td>...</td>\n",
       "      <td>...</td>\n",
       "      <td>...</td>\n",
       "      <td>...</td>\n",
       "      <td>...</td>\n",
       "    </tr>\n",
       "    <tr>\n",
       "      <th>54803</th>\n",
       "      <td>2</td>\n",
       "      <td>0</td>\n",
       "      <td>0</td>\n",
       "      <td>0.058122</td>\n",
       "      <td>3</td>\n",
       "    </tr>\n",
       "    <tr>\n",
       "      <th>54804</th>\n",
       "      <td>1</td>\n",
       "      <td>1</td>\n",
       "      <td>0</td>\n",
       "      <td>0.025335</td>\n",
       "      <td>2</td>\n",
       "    </tr>\n",
       "    <tr>\n",
       "      <th>54805</th>\n",
       "      <td>2</td>\n",
       "      <td>0</td>\n",
       "      <td>1</td>\n",
       "      <td>0.059613</td>\n",
       "      <td>1</td>\n",
       "    </tr>\n",
       "    <tr>\n",
       "      <th>54806</th>\n",
       "      <td>0</td>\n",
       "      <td>0</td>\n",
       "      <td>0</td>\n",
       "      <td>0.008942</td>\n",
       "      <td>1</td>\n",
       "    </tr>\n",
       "    <tr>\n",
       "      <th>54807</th>\n",
       "      <td>3</td>\n",
       "      <td>0</td>\n",
       "      <td>0</td>\n",
       "      <td>0.014903</td>\n",
       "      <td>1</td>\n",
       "    </tr>\n",
       "  </tbody>\n",
       "</table>\n",
       "<p>54808 rows × 5 columns</p>\n",
       "</div>"
      ],
      "text/plain": [
       "       department  education  Employee_Acheivement  training_credits  \\\n",
       "0               0          1                     1          0.014903   \n",
       "1               1          0                     0          0.031297   \n",
       "2               0          0                     0          0.016393   \n",
       "3               0          0                     0          0.090909   \n",
       "4               2          0                     0          0.050671   \n",
       "...           ...        ...                   ...               ...   \n",
       "54803           2          0                     0          0.058122   \n",
       "54804           1          1                     0          0.025335   \n",
       "54805           2          0                     1          0.059613   \n",
       "54806           0          0                     0          0.008942   \n",
       "54807           3          0                     0          0.014903   \n",
       "\n",
       "       new_age_updated_new  \n",
       "0                        2  \n",
       "1                        1  \n",
       "2                        2  \n",
       "3                        2  \n",
       "4                        3  \n",
       "...                    ...  \n",
       "54803                    3  \n",
       "54804                    2  \n",
       "54805                    1  \n",
       "54806                    1  \n",
       "54807                    1  \n",
       "\n",
       "[54808 rows x 5 columns]"
      ]
     },
     "execution_count": 39,
     "metadata": {},
     "output_type": "execute_result"
    }
   ],
   "source": [
    "X"
   ]
  },
  {
   "cell_type": "code",
   "execution_count": 40,
   "metadata": {},
   "outputs": [
    {
     "name": "stdout",
     "output_type": "stream",
     "text": [
      "Fitting 5 folds for each of 5 candidates, totalling 25 fits\n"
     ]
    },
    {
     "name": "stderr",
     "output_type": "stream",
     "text": [
      "[Parallel(n_jobs=-1)]: Using backend LokyBackend with 8 concurrent workers.\n",
      "[Parallel(n_jobs=-1)]: Done  19 out of  25 | elapsed:   16.0s remaining:    5.0s\n",
      "[Parallel(n_jobs=-1)]: Done  25 out of  25 | elapsed:   18.3s finished\n"
     ]
    },
    {
     "name": "stdout",
     "output_type": "stream",
     "text": [
      "\n",
      " Time taken: 0 hours 0 minutes and 21.14 seconds.\n"
     ]
    }
   ],
   "source": [
    "from datetime import datetime\n",
    "start_time = timer(None) # timing starts from this point for \"start_time\" variable\n",
    "c=random_search.fit(X_train,y_train)\n",
    "timer(start_time) # timing ends here for \"start_time\" variable"
   ]
  },
  {
   "cell_type": "code",
   "execution_count": 41,
   "metadata": {},
   "outputs": [
    {
     "data": {
      "text/plain": [
       "XGBClassifier(base_score=0.5, booster='gbtree', colsample_bylevel=1,\n",
       "              colsample_bynode=1, colsample_bytree=0.7, gamma=0.1, gpu_id=-1,\n",
       "              importance_type='gain', interaction_constraints='',\n",
       "              learning_rate=0.1, max_delta_step=0, max_depth=10,\n",
       "              min_child_weight=7, missing=nan, monotone_constraints='()',\n",
       "              n_estimators=100, n_jobs=0, num_parallel_tree=1, random_state=0,\n",
       "              reg_alpha=0, reg_lambda=1, scale_pos_weight=1, subsample=1,\n",
       "              tree_method='exact', validate_parameters=1, verbosity=None)"
      ]
     },
     "execution_count": 41,
     "metadata": {},
     "output_type": "execute_result"
    }
   ],
   "source": [
    "random_search.best_estimator_"
   ]
  },
  {
   "cell_type": "code",
   "execution_count": 42,
   "metadata": {},
   "outputs": [
    {
     "data": {
      "text/plain": [
       "{'min_child_weight': 7,\n",
       " 'max_depth': 10,\n",
       " 'learning_rate': 0.1,\n",
       " 'gamma': 0.1,\n",
       " 'colsample_bytree': 0.7}"
      ]
     },
     "execution_count": 42,
     "metadata": {},
     "output_type": "execute_result"
    }
   ],
   "source": [
    "random_search.best_params_"
   ]
  },
  {
   "cell_type": "code",
   "execution_count": 43,
   "metadata": {},
   "outputs": [],
   "source": [
    "classifier=xgboost.XGBClassifier(base_score=0.5, booster=None, colsample_bylevel=1,\n",
    "       colsample_bytree=0.7, gamma=0.3, learning_rate=0.05,\n",
    "       max_delta_step=0, max_depth=4, min_child_weight=1, missing=None,\n",
    "       n_estimators=100, n_jobs=0, nthread=None,\n",
    "       objective='binary:logistic', random_state=0, reg_alpha=0,\n",
    "       reg_lambda=1, scale_pos_weight=1, seed=None,\n",
    "       subsample=1)\n",
    "\n",
    "from sklearn.model_selection import cross_val_score\n",
    "score=cross_val_score(classifier,X_train,y_train,cv=10)"
   ]
  },
  {
   "cell_type": "code",
   "execution_count": 44,
   "metadata": {},
   "outputs": [
    {
     "data": {
      "text/plain": [
       "array([0.92063854, 0.92109464, 0.92018244, 0.91676169, 0.92177879,\n",
       "       0.92109464, 0.92221715, 0.92153285, 0.92221715, 0.91925182])"
      ]
     },
     "execution_count": 44,
     "metadata": {},
     "output_type": "execute_result"
    }
   ],
   "source": [
    "score"
   ]
  },
  {
   "cell_type": "code",
   "execution_count": 45,
   "metadata": {},
   "outputs": [],
   "source": [
    "y_pred=c.predict(X_test)"
   ]
  },
  {
   "cell_type": "code",
   "execution_count": 46,
   "metadata": {},
   "outputs": [],
   "source": [
    "predictions = [value for value in y_pred]"
   ]
  },
  {
   "cell_type": "code",
   "execution_count": 47,
   "metadata": {},
   "outputs": [],
   "source": [
    "from sklearn.metrics import accuracy_score\n",
    "accuracy = accuracy_score(y_pred,y_test)"
   ]
  },
  {
   "cell_type": "code",
   "execution_count": 48,
   "metadata": {},
   "outputs": [
    {
     "data": {
      "text/plain": [
       "0.9233716475095786"
      ]
     },
     "execution_count": 48,
     "metadata": {},
     "output_type": "execute_result"
    }
   ],
   "source": [
    "accuracy"
   ]
  },
  {
   "cell_type": "code",
   "execution_count": 49,
   "metadata": {},
   "outputs": [
    {
     "name": "stdout",
     "output_type": "stream",
     "text": [
      "<class 'pandas.core.frame.DataFrame'>\n",
      "RangeIndex: 23490 entries, 0 to 23489\n",
      "Data columns (total 15 columns):\n",
      " #   Column                Non-Null Count  Dtype  \n",
      "---  ------                --------------  -----  \n",
      " 0   employee_id           23490 non-null  int64  \n",
      " 1   department            23490 non-null  int64  \n",
      " 2   region                23490 non-null  object \n",
      " 3   education             23490 non-null  int64  \n",
      " 4   gender                23490 non-null  int64  \n",
      " 5   recruitment_channel   23490 non-null  float64\n",
      " 6   no_of_trainings       23490 non-null  int64  \n",
      " 7   previous_year_rating  23490 non-null  float64\n",
      " 8   length_of_service     23490 non-null  int64  \n",
      " 9   KPIs_met >80%         23490 non-null  int64  \n",
      " 10  awards_won?           23490 non-null  int64  \n",
      " 11  avg_training_score    23490 non-null  int64  \n",
      " 12  new_age_updated_new   23490 non-null  int32  \n",
      " 13  Employee_Acheivement  23490 non-null  int64  \n",
      " 14  training_credits      23490 non-null  float64\n",
      "dtypes: float64(3), int32(1), int64(10), object(1)\n",
      "memory usage: 2.6+ MB\n"
     ]
    }
   ],
   "source": [
    "test_df.info()"
   ]
  },
  {
   "cell_type": "code",
   "execution_count": 50,
   "metadata": {},
   "outputs": [
    {
     "data": {
      "text/html": [
       "<div>\n",
       "<style scoped>\n",
       "    .dataframe tbody tr th:only-of-type {\n",
       "        vertical-align: middle;\n",
       "    }\n",
       "\n",
       "    .dataframe tbody tr th {\n",
       "        vertical-align: top;\n",
       "    }\n",
       "\n",
       "    .dataframe thead th {\n",
       "        text-align: right;\n",
       "    }\n",
       "</style>\n",
       "<table border=\"1\" class=\"dataframe\">\n",
       "  <thead>\n",
       "    <tr style=\"text-align: right;\">\n",
       "      <th></th>\n",
       "      <th>employee_id</th>\n",
       "      <th>is_promoted</th>\n",
       "    </tr>\n",
       "  </thead>\n",
       "  <tbody>\n",
       "    <tr>\n",
       "      <th>0</th>\n",
       "      <td>8724</td>\n",
       "      <td>0</td>\n",
       "    </tr>\n",
       "    <tr>\n",
       "      <th>1</th>\n",
       "      <td>74430</td>\n",
       "      <td>0</td>\n",
       "    </tr>\n",
       "    <tr>\n",
       "      <th>2</th>\n",
       "      <td>72255</td>\n",
       "      <td>0</td>\n",
       "    </tr>\n",
       "    <tr>\n",
       "      <th>3</th>\n",
       "      <td>38562</td>\n",
       "      <td>0</td>\n",
       "    </tr>\n",
       "    <tr>\n",
       "      <th>4</th>\n",
       "      <td>64486</td>\n",
       "      <td>0</td>\n",
       "    </tr>\n",
       "  </tbody>\n",
       "</table>\n",
       "</div>"
      ],
      "text/plain": [
       "   employee_id  is_promoted\n",
       "0         8724            0\n",
       "1        74430            0\n",
       "2        72255            0\n",
       "3        38562            0\n",
       "4        64486            0"
      ]
     },
     "execution_count": 50,
     "metadata": {},
     "output_type": "execute_result"
    }
   ],
   "source": [
    "test_df=test_df[['department','education','Employee_Acheivement' ,'training_credits',                                               \n",
    "'new_age_updated_new']]\n",
    "predictions = c.predict(test_df)\n",
    "z=pd.read_csv('D:\\\\Datasets\\\\HR_AV\\\\test_2umaH9m.csv')\n",
    "final = pd.DataFrame({\"employee_id\":z[\"employee_id\"],\"is_promoted\":predictions})\n",
    "final.head()"
   ]
  },
  {
   "cell_type": "code",
   "execution_count": 51,
   "metadata": {},
   "outputs": [
    {
     "data": {
      "text/plain": [
       "0    22434\n",
       "1     1056\n",
       "Name: is_promoted, dtype: int64"
      ]
     },
     "execution_count": 51,
     "metadata": {},
     "output_type": "execute_result"
    }
   ],
   "source": [
    "final['is_promoted'].value_counts()"
   ]
  },
  {
   "cell_type": "code",
   "execution_count": 52,
   "metadata": {},
   "outputs": [
    {
     "data": {
      "text/plain": [
       "0    22434\n",
       "1     1056\n",
       "Name: is_promoted, dtype: int64"
      ]
     },
     "execution_count": 52,
     "metadata": {},
     "output_type": "execute_result"
    }
   ],
   "source": [
    "final['is_promoted'].value_counts()"
   ]
  },
  {
   "cell_type": "markdown",
   "metadata": {},
   "source": [
    "## Random Forest"
   ]
  },
  {
   "cell_type": "code",
   "execution_count": 53,
   "metadata": {},
   "outputs": [],
   "source": [
    "#Random forest initialization\n",
    "from sklearn.ensemble import RandomForestRegressor"
   ]
  },
  {
   "cell_type": "code",
   "execution_count": 54,
   "metadata": {},
   "outputs": [],
   "source": [
    "rf=RandomForestRegressor()\n",
    "r_m=rf.fit(X_train,y_train)"
   ]
  },
  {
   "cell_type": "code",
   "execution_count": 55,
   "metadata": {},
   "outputs": [
    {
     "data": {
      "text/plain": [
       "0.921091041780697"
      ]
     },
     "execution_count": 55,
     "metadata": {},
     "output_type": "execute_result"
    }
   ],
   "source": [
    "y_pred=r_m.predict(X_test)\n",
    "from sklearn import metrics\n",
    "accuracy=metrics.accuracy_score(y_test,y_pred.round())\n",
    "accuracy"
   ]
  },
  {
   "cell_type": "code",
   "execution_count": 56,
   "metadata": {},
   "outputs": [
    {
     "data": {
      "text/html": [
       "<div>\n",
       "<style scoped>\n",
       "    .dataframe tbody tr th:only-of-type {\n",
       "        vertical-align: middle;\n",
       "    }\n",
       "\n",
       "    .dataframe tbody tr th {\n",
       "        vertical-align: top;\n",
       "    }\n",
       "\n",
       "    .dataframe thead th {\n",
       "        text-align: right;\n",
       "    }\n",
       "</style>\n",
       "<table border=\"1\" class=\"dataframe\">\n",
       "  <thead>\n",
       "    <tr style=\"text-align: right;\">\n",
       "      <th></th>\n",
       "      <th>employee_id</th>\n",
       "      <th>is_promoted</th>\n",
       "    </tr>\n",
       "  </thead>\n",
       "  <tbody>\n",
       "    <tr>\n",
       "      <th>0</th>\n",
       "      <td>8724</td>\n",
       "      <td>0</td>\n",
       "    </tr>\n",
       "    <tr>\n",
       "      <th>1</th>\n",
       "      <td>74430</td>\n",
       "      <td>0</td>\n",
       "    </tr>\n",
       "    <tr>\n",
       "      <th>2</th>\n",
       "      <td>72255</td>\n",
       "      <td>0</td>\n",
       "    </tr>\n",
       "    <tr>\n",
       "      <th>3</th>\n",
       "      <td>38562</td>\n",
       "      <td>0</td>\n",
       "    </tr>\n",
       "    <tr>\n",
       "      <th>4</th>\n",
       "      <td>64486</td>\n",
       "      <td>0</td>\n",
       "    </tr>\n",
       "  </tbody>\n",
       "</table>\n",
       "</div>"
      ],
      "text/plain": [
       "   employee_id  is_promoted\n",
       "0         8724            0\n",
       "1        74430            0\n",
       "2        72255            0\n",
       "3        38562            0\n",
       "4        64486            0"
      ]
     },
     "execution_count": 56,
     "metadata": {},
     "output_type": "execute_result"
    }
   ],
   "source": [
    "test_df=test_df[['department','education','Employee_Acheivement' ,'training_credits',                                               \n",
    "'new_age_updated_new']]\n",
    "predictions = c.predict(test_df)\n",
    "z=pd.read_csv('D:\\\\Datasets\\\\HR_AV\\\\test_2umaH9m.csv')\n",
    "final = pd.DataFrame({\"employee_id\":z[\"employee_id\"],\"is_promoted\":predictions})\n",
    "final.head()"
   ]
  },
  {
   "cell_type": "code",
   "execution_count": 57,
   "metadata": {},
   "outputs": [
    {
     "data": {
      "text/plain": [
       "0    22434\n",
       "1     1056\n",
       "Name: is_promoted, dtype: int64"
      ]
     },
     "execution_count": 57,
     "metadata": {},
     "output_type": "execute_result"
    }
   ],
   "source": [
    "final['is_promoted'].value_counts()"
   ]
  },
  {
   "cell_type": "code",
   "execution_count": 58,
   "metadata": {},
   "outputs": [
    {
     "data": {
      "text/html": [
       "<div>\n",
       "<style scoped>\n",
       "    .dataframe tbody tr th:only-of-type {\n",
       "        vertical-align: middle;\n",
       "    }\n",
       "\n",
       "    .dataframe tbody tr th {\n",
       "        vertical-align: top;\n",
       "    }\n",
       "\n",
       "    .dataframe thead th {\n",
       "        text-align: right;\n",
       "    }\n",
       "</style>\n",
       "<table border=\"1\" class=\"dataframe\">\n",
       "  <thead>\n",
       "    <tr style=\"text-align: right;\">\n",
       "      <th></th>\n",
       "      <th>employee_id</th>\n",
       "      <th>is_promoted</th>\n",
       "    </tr>\n",
       "  </thead>\n",
       "  <tbody>\n",
       "    <tr>\n",
       "      <th>23485</th>\n",
       "      <td>53478</td>\n",
       "      <td>0</td>\n",
       "    </tr>\n",
       "    <tr>\n",
       "      <th>23486</th>\n",
       "      <td>25600</td>\n",
       "      <td>0</td>\n",
       "    </tr>\n",
       "    <tr>\n",
       "      <th>23487</th>\n",
       "      <td>45409</td>\n",
       "      <td>0</td>\n",
       "    </tr>\n",
       "    <tr>\n",
       "      <th>23488</th>\n",
       "      <td>1186</td>\n",
       "      <td>0</td>\n",
       "    </tr>\n",
       "    <tr>\n",
       "      <th>23489</th>\n",
       "      <td>5973</td>\n",
       "      <td>1</td>\n",
       "    </tr>\n",
       "  </tbody>\n",
       "</table>\n",
       "</div>"
      ],
      "text/plain": [
       "       employee_id  is_promoted\n",
       "23485        53478            0\n",
       "23486        25600            0\n",
       "23487        45409            0\n",
       "23488         1186            0\n",
       "23489         5973            1"
      ]
     },
     "execution_count": 58,
     "metadata": {},
     "output_type": "execute_result"
    }
   ],
   "source": [
    "final.tail()"
   ]
  },
  {
   "cell_type": "markdown",
   "metadata": {},
   "source": [
    "### Decision Trees"
   ]
  },
  {
   "cell_type": "code",
   "execution_count": 59,
   "metadata": {},
   "outputs": [],
   "source": [
    "from sklearn.tree import DecisionTreeClassifier\n",
    "model=DecisionTreeClassifier()\n",
    "model=model.fit(X_train,y_train)\n",
    "y_pred=model.predict(X_test)"
   ]
  },
  {
   "cell_type": "code",
   "execution_count": 60,
   "metadata": {},
   "outputs": [],
   "source": [
    "accuracy=metrics.accuracy_score(y_test,y_pred)"
   ]
  },
  {
   "cell_type": "code",
   "execution_count": 61,
   "metadata": {},
   "outputs": [
    {
     "data": {
      "text/plain": [
       "0.9204524721766101"
      ]
     },
     "execution_count": 61,
     "metadata": {},
     "output_type": "execute_result"
    }
   ],
   "source": [
    "accuracy"
   ]
  },
  {
   "cell_type": "markdown",
   "metadata": {},
   "source": [
    "### SVM"
   ]
  },
  {
   "cell_type": "code",
   "execution_count": 62,
   "metadata": {},
   "outputs": [],
   "source": [
    "from sklearn import svm\n",
    "model=svm.SVC(kernel='linear')"
   ]
  },
  {
   "cell_type": "code",
   "execution_count": 63,
   "metadata": {},
   "outputs": [],
   "source": [
    "model.fit(X_train,y_train)\n",
    "y_pred=model.predict(X_test)"
   ]
  },
  {
   "cell_type": "code",
   "execution_count": 64,
   "metadata": {},
   "outputs": [
    {
     "data": {
      "text/plain": [
       "0.9134282065316548"
      ]
     },
     "execution_count": 64,
     "metadata": {},
     "output_type": "execute_result"
    }
   ],
   "source": [
    "acc=metrics.accuracy_score(y_test,y_pred)\n",
    "acc"
   ]
  },
  {
   "cell_type": "markdown",
   "metadata": {},
   "source": [
    "### Logistic Regression"
   ]
  },
  {
   "cell_type": "code",
   "execution_count": 65,
   "metadata": {},
   "outputs": [
    {
     "data": {
      "text/plain": [
       "LogisticRegression()"
      ]
     },
     "execution_count": 65,
     "metadata": {},
     "output_type": "execute_result"
    }
   ],
   "source": [
    "from sklearn.linear_model import LogisticRegression\n",
    "model=LogisticRegression()\n",
    "model.fit(X_train,y_train)"
   ]
  },
  {
   "cell_type": "code",
   "execution_count": 66,
   "metadata": {},
   "outputs": [
    {
     "name": "stdout",
     "output_type": "stream",
     "text": [
      "0.9140667761357416\n",
      "              precision    recall  f1-score   support\n",
      "\n",
      "           0       0.92      1.00      0.95     10013\n",
      "           1       0.57      0.03      0.06       949\n",
      "\n",
      "    accuracy                           0.91     10962\n",
      "   macro avg       0.74      0.51      0.51     10962\n",
      "weighted avg       0.89      0.91      0.88     10962\n",
      "\n"
     ]
    }
   ],
   "source": [
    "y_pred=model.predict(X_test)\n",
    "print(metrics.accuracy_score(y_test,y_pred))\n",
    "from sklearn.metrics import classification_report\n",
    "print(classification_report(y_test, y_pred))"
   ]
  },
  {
   "cell_type": "code",
   "execution_count": 67,
   "metadata": {},
   "outputs": [
    {
     "name": "stdout",
     "output_type": "stream",
     "text": [
      "[[9991   22]\n",
      " [ 920   29]]\n"
     ]
    }
   ],
   "source": [
    "from sklearn.metrics import confusion_matrix\n",
    "confusion_matrix = confusion_matrix(y_test, y_pred)\n",
    "print(confusion_matrix)"
   ]
  },
  {
   "cell_type": "code",
   "execution_count": null,
   "metadata": {},
   "outputs": [],
   "source": []
  }
 ],
 "metadata": {
  "kernelspec": {
   "display_name": "Python 3",
   "language": "python",
   "name": "python3"
  },
  "language_info": {
   "codemirror_mode": {
    "name": "ipython",
    "version": 3
   },
   "file_extension": ".py",
   "mimetype": "text/x-python",
   "name": "python",
   "nbconvert_exporter": "python",
   "pygments_lexer": "ipython3",
   "version": "3.6.12"
  }
 },
 "nbformat": 4,
 "nbformat_minor": 4
}
